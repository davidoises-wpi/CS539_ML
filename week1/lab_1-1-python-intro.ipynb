{
  "cells": [
    {
      "cell_type": "markdown",
      "metadata": {
        "id": "view-in-github",
        "colab_type": "text"
      },
      "source": [
        "<a href=\"https://colab.research.google.com/github/davidoises-wpi/CS539_ML/blob/user%2Fdavidoises-wpi%2Fweek1/week1/lab_1-1-python-intro.ipynb\" target=\"_parent\"><img src=\"https://colab.research.google.com/assets/colab-badge.svg\" alt=\"Open In Colab\"/></a>"
      ]
    },
    {
      "cell_type": "markdown",
      "metadata": {
        "id": "3oGpRpsdRIe8"
      },
      "source": [
        "# LAB 1-1\n",
        "\n",
        "This lab serves as a sanity check to ensure we have a baseline mastery of the fundamentals of Python.\n",
        "\n",
        "\n",
        "**Submission**: Please do see the section entitled `TODO: PRACTICE EXERCISES` at the end for the actual exercises that you'll be submitting and how.\n"
      ]
    },
    {
      "cell_type": "markdown",
      "metadata": {
        "id": "I0nbUOdzRIfA"
      },
      "source": [
        "\n",
        "## Google Colaboratory (Google CoLab)\n",
        "\n",
        "\n",
        "[Jupyter notebooks](https://jupyter.org/) are a standard tool for data scientists. They allow you to create and share documents that contain \"cells\" with runnable Python code as well as equations, visualizations, and text. [Google Colab](http://colab.research.google.com/) gives you the same ability online in a collaborative environment with all the resources of a powerful virtual machine underlying the notebook execution.\n",
        "\n",
        "Here is [an overview of Google Colaboratory (Google CoLab) features](https://colab.research.google.com/notebooks/basic_features_overview.ipynb) and a brief guide for [using BigQuery through Colaboratory](https://colab.research.google.com/notebooks/bigquery.ipynb). Before proceeding, make sure you have read and understood these support documents. To open a new notebook in [Colab](http://colab.research.google.com/), you can go to *File \\> Upload notebook* and choose the file either from your computer or from Google Drive. You can also make a copy of an existing Colab noteboook by going to *File \\> Save a Copy in Drive ...* . Colab notebooks can be saved just like any other file to your own Google Drive account.\n",
        "\n",
        "\n",
        "\n",
        "# INTRODUCTION TO PYTHON\n",
        "\n",
        "Welcome to our introduction to the Python Programming Language using our first iPython Notebook on Google CoLab!\n",
        "\n",
        "# Variables\n",
        "\n",
        "We use variables to represent locations in computer memory where we store data for our program. To initialize variables in a Python program, you simply type the variable name followed by an equals sign and then some expression that evaluates to the variable's initial value. Here are some examples:"
      ]
    },
    {
      "cell_type": "code",
      "execution_count": null,
      "metadata": {
        "id": "O1KtPxPnRIfB"
      },
      "outputs": [],
      "source": [
        "x = 2\n",
        "mass = 12.3\n",
        "speed_of_light = 299792458\n",
        "energy = mass * (speed_of_light ** 2)\n",
        "raining = True\n",
        "course_csc1500 = \"Computer Science 1\"\n",
        "energy, raining, course_csc1500"
      ]
    },
    {
      "cell_type": "markdown",
      "metadata": {
        "id": "TByAHwj3RIfC"
      },
      "source": [
        "Variable names must start with a letter or an underscore, followed by any sequence of letters, digits and underscores. Variables are case-sensitive, so the variables `salary` and `Salary` are different. Variable names cannot include spaces.\n",
        "\n",
        "The instructions above are called *assignment statements* since they assign a value to a variable. All assignment statements have a single variable followed by an equals sign followed by either a data value or an computation (expression) contains variables and/or data values. For numerical computations, here are the operators you can use:"
      ]
    },
    {
      "cell_type": "code",
      "execution_count": null,
      "metadata": {
        "id": "Kng4Ly95RIfD"
      },
      "outputs": [],
      "source": [
        "+   addition\n",
        "-   subtraction\n",
        "*   multiplication\n",
        "/   division\n",
        "//      truncated division\n",
        "%   remainder (think: modulo)\n",
        "**  exponentiation"
      ]
    },
    {
      "cell_type": "markdown",
      "metadata": {
        "id": "LNgMC4_0RIfD"
      },
      "source": [
        "NB: In 2.7,  `/` behaves like `//`\n",
        "\n",
        "When you type expressions with more than one arithmetic operator, they are evaluated based on the usual mathematical *precedence*, with exponentiation performed first, then multiplication, division and remainder next, and finally addition and subtraction last. If there is more than one operator of the same type (e.g. addition and subtraction), they are evaluated left to right. If you want to force a lower precedence operation to be performed first, use parentheses like you would in ordinary mathematics. For example, here is a Python statement that computes the total amount due for a loan using simple interest given the principal (amount borrowed), interest rate per month and time of loan in months:"
      ]
    },
    {
      "cell_type": "code",
      "execution_count": null,
      "metadata": {
        "id": "K6qjNRohRIfD"
      },
      "outputs": [],
      "source": [
        "total_amount = principal * (1 + rate * time)"
      ]
    },
    {
      "cell_type": "markdown",
      "metadata": {
        "id": "VZ5QtDRxRIfE"
      },
      "source": [
        "# Input and Output\n",
        "\n",
        "If you want to input numerical data into your program from the keyboard, you can use the `input` function:"
      ]
    },
    {
      "cell_type": "code",
      "execution_count": null,
      "metadata": {
        "id": "DPOHF_1NRIfE"
      },
      "outputs": [],
      "source": [
        "tempF = int(input(\"Input the temperature in Fahrenheit: \"))"
      ]
    },
    {
      "cell_type": "markdown",
      "metadata": {
        "id": "wUaj4U1CRIfE"
      },
      "source": [
        "The `input` function requires a string that is output to prompt the user with an instruction on what input is required. The `int()` typecast converst the input string to integer. The numerical value the user types in is then stored in the variable `tempF`.\n",
        "\n",
        "NB: In 2.7, you don't need the `int()`\n",
        "\n",
        "To output the value of a variable or expression, you simply use the `print` function. Here are three examples:"
      ]
    },
    {
      "cell_type": "code",
      "execution_count": null,
      "metadata": {
        "id": "NIXboKPgRIfF"
      },
      "outputs": [],
      "source": [
        "print(\"The temperature in Fahrenheit: \")\n",
        "print(tempF)\n",
        "print(\"The temperature in Celsius is \", (5.0/9.0)*(tempF - 32.0))\n",
        "print(mass, \" * \", speed_of_light, \" ** 2 = \", energy)"
      ]
    },
    {
      "cell_type": "markdown",
      "metadata": {
        "id": "wPXOhrnpRIfF"
      },
      "source": [
        "NB: In 2.7, you don't need the parentheses after a function name/identifier\n",
        "\n",
        "In the first two examples, there is only one item being printed per line. In the last two examples, more than one item is printed on the same line.\n",
        "\n",
        "# Writing Python Programs\n",
        "\n",
        "A simple Python program has the following format:"
      ]
    },
    {
      "cell_type": "code",
      "execution_count": null,
      "metadata": {
        "id": "iGwPs1ryRIfF"
      },
      "outputs": [],
      "source": [
        "def main():\n",
        "    ---------------------------\n",
        "    Python instructions go here\n",
        "    ---------------------------\n",
        "        <-- blank line here\n",
        "main()"
      ]
    },
    {
      "cell_type": "markdown",
      "metadata": {
        "id": "XEEgemZjRIfF"
      },
      "source": [
        "The instructions of the program are stored in the function definition (`def`) named `main`. The final instruction runs the `main` function it is defined. Here is an example of a short program that converts an input temperature in Fahrenheit to Celsius:"
      ]
    },
    {
      "cell_type": "code",
      "execution_count": null,
      "metadata": {
        "id": "_2Q50TKKRIfF"
      },
      "outputs": [],
      "source": [
        "def main():\n",
        "       tempF = int(input(\"Input the temperature in Fahrenheit: \"))\n",
        "       tempC = (5.0/9.0) * (tempF - 32.0)\n",
        "       print(tempF, \" F = \", tempC, \" C\")\n",
        "main()"
      ]
    },
    {
      "cell_type": "markdown",
      "metadata": {
        "id": "xfM1u84JRIfF"
      },
      "source": [
        "Note that the instructions in the `main` function definition are all indented. We suggest you use one tab to line up all instructions in `main`.\n",
        "\n",
        "# Loops\n",
        "\n",
        "If you want to repeat instructions a specific number of times, you can use the `for` instruction:"
      ]
    },
    {
      "cell_type": "code",
      "execution_count": null,
      "metadata": {
        "id": "06WOlzTFRIfG"
      },
      "outputs": [],
      "source": [
        "    for i in range(10):\n",
        "        print(i)\n"
      ]
    },
    {
      "cell_type": "markdown",
      "metadata": {
        "id": "XvamWRwhRIfG"
      },
      "source": [
        "The loop above sets i to values in the range from 0 up to *but not including* 10. Another way to look at it is that it is a loop that repeats exactly 10 times. Here is the output:"
      ]
    },
    {
      "cell_type": "code",
      "execution_count": null,
      "metadata": {
        "id": "geGWaM6bRIfG"
      },
      "outputs": [],
      "source": [
        "0\n",
        "1\n",
        "2\n",
        "3\n",
        "4\n",
        "5\n",
        "6\n",
        "7\n",
        "8\n",
        "9"
      ]
    },
    {
      "cell_type": "markdown",
      "metadata": {
        "id": "d5EKyLVlRIfG"
      },
      "source": [
        "Here is a slightly different version. Notice the extra comma at the end of the `print` statement:"
      ]
    },
    {
      "cell_type": "code",
      "execution_count": null,
      "metadata": {
        "id": "1lhTHRp5RIfG"
      },
      "outputs": [],
      "source": [
        "    for i in range(10):\n",
        "        # In 2.7, you could do this: print i,\n",
        "        print(i,end=' ')"
      ]
    },
    {
      "cell_type": "markdown",
      "metadata": {
        "id": "fRp6ZR6FRIfG"
      },
      "source": [
        "Since the `print` statement has a comma, the cursor stays on the same line to print the next item. Here is the new output:"
      ]
    },
    {
      "cell_type": "code",
      "execution_count": null,
      "metadata": {
        "id": "-Y-SXxb_RIfG"
      },
      "outputs": [],
      "source": [
        "0 1 2 3 4 5 6 7 8 9"
      ]
    },
    {
      "cell_type": "markdown",
      "metadata": {
        "id": "QnLYivPMRIfH"
      },
      "source": [
        "Notice that the instruction that is repeated is indented below the `for` instruction. A loop can repeat more than one instruction, as a group, as shown below:"
      ]
    },
    {
      "cell_type": "code",
      "execution_count": null,
      "metadata": {
        "id": "Q6gwM1nkRIfH"
      },
      "outputs": [],
      "source": [
        "    for i in range(10):\n",
        "        print(i, \"\\t\",end=' ')\n",
        "        print(i**2, \"\\t\",end=' ')\n",
        "        print(i**3)\n"
      ]
    },
    {
      "cell_type": "markdown",
      "metadata": {
        "id": "_2sx2de-RIfH"
      },
      "source": [
        "The loop consists of a block or set of 3 instructions that are repeated 10 times. This loop prints out a table of the squares and cubes of the integers 0 through 9. The \"\\\\t\" string is a special symbol for one press of the tab key on the keyboard. The extra comma at the end of the first two `print` statements keeps the cursor on the same line until we get to the third `print` statement. The instruction(s) that repeat in a loop is called the *loop body*. Here is the output:"
      ]
    },
    {
      "cell_type": "code",
      "execution_count": null,
      "metadata": {
        "id": "JSguqKuXRIfH"
      },
      "outputs": [],
      "source": [
        "0   0   0\n",
        "1   1   1\n",
        "2   4   8\n",
        "3   9   27\n",
        "4   16  64\n",
        "5   25  125\n",
        "6   36  216\n",
        "7   49  343\n",
        "8   64  512\n",
        "9   81  729"
      ]
    },
    {
      "cell_type": "markdown",
      "metadata": {
        "id": "tFgwLH7xRIfH"
      },
      "source": [
        "Sometimes you might have a computation that you have to repeat, but you don't know specifically how many times you must repeat the computation. You can use the `while` loop to handle this. Based on the condition you give, the loop will repeat as long as the condition holds. For example, let's say you want to print your table above until the cube value exceeds 500. Here's how we would write this:"
      ]
    },
    {
      "cell_type": "code",
      "execution_count": null,
      "metadata": {
        "id": "nlk6zAR3RIfH"
      },
      "outputs": [],
      "source": [
        "    i = 0\n",
        "    while i**3 < 500:\n",
        "        print(i, \"\\t\",end=' ')\n",
        "        print(i**2, \"\\t\",end=' ')\n",
        "        print(i**3)\n",
        "        i = i + 1\n"
      ]
    },
    {
      "cell_type": "markdown",
      "metadata": {
        "id": "Da_Wn-vARIfH"
      },
      "source": [
        "Note that we have to initialize `i` explicitly here before the loop begins, and we have to add 1 to `i` before we start our next iteration of the loop. (The `for` loop you saw above does this automatically, but the `while` loop has more flexibility and can run an arbitrary number of times.) Here is the output this time:"
      ]
    },
    {
      "cell_type": "code",
      "execution_count": null,
      "metadata": {
        "id": "Q4i_YFvXRIfH"
      },
      "outputs": [],
      "source": [
        "0   0   0\n",
        "1   1   1\n",
        "2   4   8\n",
        "3   9   27\n",
        "4   16  64\n",
        "5   25  125\n",
        "6   36  216\n",
        "7   49  343"
      ]
    },
    {
      "cell_type": "markdown",
      "metadata": {
        "id": "-mzLdzFZRIfH"
      },
      "source": [
        "Here are the operators you can use to compare one value to another for the condition of a `while` loop:"
      ]
    },
    {
      "cell_type": "code",
      "execution_count": null,
      "metadata": {
        "id": "qae_wp7WRIfJ"
      },
      "outputs": [],
      "source": [
        "<   is less than\n",
        ">   is greater than\n",
        "==  is equal to\n",
        "<=  is less than or equal to\n",
        ">=  is greater than or equal to\n",
        "!=  is not equal to"
      ]
    },
    {
      "cell_type": "markdown",
      "metadata": {
        "id": "GCMD9nB1RIfJ"
      },
      "source": [
        "The operators above are called *relational operators* since they allow you to determine the relation of one value to another.\n",
        "\n",
        "As a final example, here is a Python program to compute the GCD of two integers:"
      ]
    },
    {
      "cell_type": "code",
      "execution_count": null,
      "metadata": {
        "id": "Bk72EueoRIfJ"
      },
      "outputs": [],
      "source": [
        "    # gcd.py\n",
        "    # Program to compute GCD\n",
        "\n",
        "    def main():\n",
        "        x = int(input(\"Input the first integer: \"))\n",
        "        y = int(input(\"Input the second integer: \"))\n",
        "        print(\"The GCD of \", x, \" and \", y, \" is \",end=' ')\n",
        "        while y != 0:\n",
        "            x_prime = y\n",
        "            y_prime = x % y\n",
        "            x = x_prime\n",
        "            y = y_prime\n",
        "        print(x)\n",
        "\n",
        "    main()"
      ]
    },
    {
      "cell_type": "markdown",
      "metadata": {
        "id": "f7c4-mfBRIfJ"
      },
      "source": [
        "The program asks for values for `x` and `y`, then repeats the set of 4 instructions of the `while` loop while y is not equal to 0, and finally outputs the final value of `x` as the answer for the GCD calculation. The symbol `#` represents a *comment* which just a message for us to explain the purpose of the program. The text after the `#` on each line is ignored by the Python interpreter.\n",
        "\n",
        "# Dictionaries\n",
        "\n",
        "We can setup dictionaries as key:value pairs of values. A dictionary is an unordered collection of data values that is used to store data values like a map. We can create a dictionary as so:"
      ]
    },
    {
      "cell_type": "code",
      "execution_count": null,
      "metadata": {
        "id": "YRX-xGgVRIfJ"
      },
      "outputs": [],
      "source": [
        "    d = {1: 10, 2: 20, 3: 30, 4: 40, 5: 50, 6: 60}\n"
      ]
    },
    {
      "cell_type": "markdown",
      "metadata": {
        "id": "h11AXkskRIfJ"
      },
      "source": [
        "We can then check if a particular key is in the dictionary as so:"
      ]
    },
    {
      "cell_type": "code",
      "execution_count": null,
      "metadata": {
        "id": "86IV80CgRIfJ"
      },
      "outputs": [],
      "source": [
        "    if 3 in d:\n",
        "      print(\"3 is in d!\")\n"
      ]
    },
    {
      "cell_type": "markdown",
      "metadata": {
        "id": "LA1q3lqlRIfN"
      },
      "source": [
        "The key in a dictionary can be any immutable type. We can thus declare more complex dictionaries like:"
      ]
    },
    {
      "cell_type": "code",
      "execution_count": null,
      "metadata": {
        "id": "uhAdZ70tRIfN"
      },
      "outputs": [],
      "source": [
        "    d = {'x': 10, 'y': 20, 'z': 30}\n",
        "    for dict_key, dict_value in d.items():\n",
        "        print(dict_key,'->',dict_value)\n"
      ]
    },
    {
      "cell_type": "markdown",
      "metadata": {
        "id": "OOSModTHRIfN"
      },
      "source": [
        "We can also pull just the keys and sort the keys and then use the key to get the value, as follows:"
      ]
    },
    {
      "cell_type": "code",
      "execution_count": null,
      "metadata": {
        "id": "zTJ4unB_RIfN"
      },
      "outputs": [],
      "source": [
        "    color_dict = {'red':'#FF0000',\n",
        "                  'green':'#008000',\n",
        "                  'black':'#000000',\n",
        "                  'white':'#FFFFFF'\n",
        "                 }\n",
        "\n",
        "    for key in sorted(color_dict):\n",
        "        print(\"%s: %s\" % (key, color_dict[key]))"
      ]
    },
    {
      "cell_type": "markdown",
      "metadata": {
        "id": "BgGiKm59RIfN"
      },
      "source": [
        "In fact, we can also setup a dictionary of dictionaries and process it as follows to remove duplicate values:"
      ]
    },
    {
      "cell_type": "code",
      "execution_count": null,
      "metadata": {
        "id": "sVMV75E-RIfN"
      },
      "outputs": [],
      "source": [
        "    student_data = {'id1':\n",
        "       {'name': ['Sara'],\n",
        "        'class': ['V'],\n",
        "        'subject_integration': ['english, math, science']\n",
        "       },\n",
        "     'id2':\n",
        "      {'name': ['David'],\n",
        "        'class': ['V'],\n",
        "        'subject_integration': ['english, math, science']\n",
        "       },\n",
        "     'id3':\n",
        "        {'name': ['Sara'],\n",
        "        'class': ['V'],\n",
        "        'subject_integration': ['english, math, science']\n",
        "       },\n",
        "     'id4':\n",
        "       {'name': ['Surya'],\n",
        "        'class': ['V'],\n",
        "        'subject_integration': ['english, math, science']\n",
        "       },\n",
        "    }\n",
        "\n",
        "    result = {}\n",
        "\n",
        "    for key,value in student_data.items():\n",
        "        if value not in result.values():\n",
        "            result[key] = value\n",
        "\n",
        "    print(result)"
      ]
    },
    {
      "cell_type": "markdown",
      "metadata": {
        "id": "pFss7ax0RIfO"
      },
      "source": [
        "We can use the dictionary data structure for sparse datasets as you only need to represent the non-trival values here. Here is a link to [lists, tuples, and dictionaries](http://sthurlow.com/python/lesson06/) and one with some [Python Tricks](http://www.petercollingridge.co.uk/book/export/html/362).\n",
        "\n",
        "# List Comprehensions\n",
        "\n",
        "List comprehensions are a very powerful construct in Python that is based on the [set-builder\n",
        "notation](https://www.quora.com/Why-are-%E2%80%9Clist-comprehensions%E2%80%9D-called-%E2%80%9Clist-comprehensions%E2%80%9D-in-Python-They-seem-more-like-%E2%80%9Clist-builders%E2%80%9D) in mathematics, which are also called **set comprehensions** or **set abstractions**. Set comprehensions in mathematics can be used to build a set as below, for example:\n",
        "\n",
        "${𝑥 | 𝑥 \\in \\{1,\\dots,100\\} \\wedge 𝑥 \\mod 2 = 0}$\n",
        "\n",
        "This can be expressed in Python in a similar way:"
      ]
    },
    {
      "cell_type": "code",
      "execution_count": null,
      "metadata": {
        "id": "zl1TapQURIfO"
      },
      "outputs": [],
      "source": [
        "[x for x in range(1,101) if x % 2 == 0]"
      ]
    },
    {
      "cell_type": "markdown",
      "metadata": {
        "id": "qzDcgqwjRIfO"
      },
      "source": [
        "This isn't limited to purely mathematical constructs, of course; e.g., consider this set-builder:\n",
        "\n",
        "`{ x: x is a whole number less than 20, x is even }`\n",
        "\n",
        "An equivalent set can be expressed in Python as:"
      ]
    },
    {
      "cell_type": "code",
      "execution_count": null,
      "metadata": {
        "id": "kKwmA9rhRIfO"
      },
      "outputs": [],
      "source": [
        "[x for x in 'MATHEMATICS' if x in ['A','E','I','O','U']]"
      ]
    },
    {
      "cell_type": "markdown",
      "metadata": {
        "id": "mG0WUYWeRIfO"
      },
      "source": [
        "We can also use this approach to make dictionary comprehensions, for example. I'd also highly recommend looking at list comprehensions as shown in this link, [List Comprehensions visualized](http://treyhunner.com/2015/12/python-list-comprehensions-now-in-color/), as they're a very handy compact representation of `for-loop` constructs although we'll usually favour the old-fashioned, more familiar and readable approach for the most part.\n",
        "\n",
        "# Functions\n",
        "\n",
        "Try and predict what each of the following cells will output when you press the Play button in the following cells.\n",
        "\n",
        "**Nota Bene**: the `1, 2, 3` in the left part are the line numbers and not part of the Python code."
      ]
    },
    {
      "cell_type": "code",
      "execution_count": null,
      "metadata": {
        "id": "OtET4V7mRIfO"
      },
      "outputs": [],
      "source": [
        "x = 1\n",
        "y = 2\n",
        "x + y\n",
        "y"
      ]
    },
    {
      "cell_type": "markdown",
      "metadata": {
        "id": "ToYpSavGRIfO"
      },
      "source": [
        "`add_numbers()` is a function that takes two numbers and adds them together."
      ]
    },
    {
      "cell_type": "code",
      "execution_count": null,
      "metadata": {
        "id": "IRKVrFkjRIfO"
      },
      "outputs": [],
      "source": [
        "def add_numbers(x, y):\n",
        "    return x + y\n",
        "\n",
        "add_numbers(1, 2)"
      ]
    },
    {
      "cell_type": "markdown",
      "metadata": {
        "id": "xjCazWwqRIfP"
      },
      "source": [
        "`add_numbers()` updated to take an optional 3rd parameter. Using `print()` allows printing of multiple expressions within a single cell."
      ]
    },
    {
      "cell_type": "code",
      "execution_count": null,
      "metadata": {
        "id": "ANwCl12URIfP"
      },
      "outputs": [],
      "source": [
        "def add_numbers(x,y,z=None):\n",
        "    if (z==None):\n",
        "        return x+y\n",
        "    else:\n",
        "        return x+y+z\n",
        "\n",
        "print(add_numbers(1, 2))\n",
        "print(add_numbers(1, 2, 3))"
      ]
    },
    {
      "cell_type": "markdown",
      "metadata": {
        "id": "nf81CsWZRIfP"
      },
      "source": [
        "`add_numbers()` updated to take an optional flag parameter."
      ]
    },
    {
      "cell_type": "code",
      "execution_count": null,
      "metadata": {
        "id": "0xR3B4liRIfP"
      },
      "outputs": [],
      "source": [
        "def add_numbers(x, y, z=None, flag=False):\n",
        "    if (flag):\n",
        "        print('Flag is true!')\n",
        "    if (z==None):\n",
        "        return x + y\n",
        "    else:\n",
        "        return x + y + z\n",
        "\n",
        "print(add_numbers(1, 2, flag=True))"
      ]
    },
    {
      "cell_type": "markdown",
      "metadata": {
        "id": "NwcfXRMCRIfP"
      },
      "source": [
        "Assign function `add_numbers` to variable `a`."
      ]
    },
    {
      "cell_type": "code",
      "execution_count": null,
      "metadata": {
        "id": "rPkX1hULRIfP"
      },
      "outputs": [],
      "source": [
        "def add_numbers(x,y):\n",
        "    return x+y\n",
        "\n",
        "a = add_numbers\n",
        "a(1,2)"
      ]
    },
    {
      "cell_type": "markdown",
      "metadata": {
        "id": "hj2KQK87RIfP"
      },
      "source": [
        "# Types and Sequences\n",
        "\n",
        "Use `type` to return the object's type."
      ]
    },
    {
      "cell_type": "code",
      "execution_count": null,
      "metadata": {
        "id": "9IBoMrsZRIfP"
      },
      "outputs": [],
      "source": [
        "type('This is a string')\n",
        "type(None)\n",
        "type(1)\n",
        "type(1.0)\n",
        "type(add_numbers)"
      ]
    },
    {
      "cell_type": "markdown",
      "metadata": {
        "id": "mWq0pEOaRIfQ"
      },
      "source": [
        "Tuples are an immutable data structure (cannot be altered)."
      ]
    },
    {
      "cell_type": "code",
      "execution_count": null,
      "metadata": {
        "id": "zuNdMEuXRIfQ"
      },
      "outputs": [],
      "source": [
        "x = (1, 'a', 2, 'b')\n",
        "type(x)"
      ]
    },
    {
      "cell_type": "markdown",
      "metadata": {
        "id": "Z5p1IodIRIfQ"
      },
      "source": [
        "Lists are a mutable data structure."
      ]
    },
    {
      "cell_type": "code",
      "execution_count": null,
      "metadata": {
        "id": "o35dfWlwRIfQ"
      },
      "outputs": [],
      "source": [
        "x = [1, 'a', 2, 'b']\n",
        "type(x)"
      ]
    },
    {
      "cell_type": "markdown",
      "metadata": {
        "id": "n5jQa6x-RIfQ"
      },
      "source": [
        "Use `append` to append an object to a list."
      ]
    },
    {
      "cell_type": "code",
      "execution_count": null,
      "metadata": {
        "id": "-L01e0ihRIfQ"
      },
      "outputs": [],
      "source": [
        "x.append(3.3)\n",
        "print(x)"
      ]
    },
    {
      "cell_type": "markdown",
      "metadata": {
        "id": "u7E4LorhRIfQ"
      },
      "source": [
        "This is an example of how to loop through each item in the list."
      ]
    },
    {
      "cell_type": "code",
      "execution_count": null,
      "metadata": {
        "id": "Kd6-pA4yRIfQ"
      },
      "outputs": [],
      "source": [
        "for item in x:\n",
        "    print(item)"
      ]
    },
    {
      "cell_type": "markdown",
      "metadata": {
        "id": "aB3haW8QRIfQ"
      },
      "source": [
        "Or using the indexing operator:"
      ]
    },
    {
      "cell_type": "code",
      "execution_count": null,
      "metadata": {
        "id": "4KjWyh7xRIfR"
      },
      "outputs": [],
      "source": [
        "i=0\n",
        "while( i != len(x) ):\n",
        "    print(x[i])\n",
        "    i = i + 1"
      ]
    },
    {
      "cell_type": "markdown",
      "metadata": {
        "id": "GaB7siVuRIfR"
      },
      "source": [
        "Use `+` to concatenate lists."
      ]
    },
    {
      "cell_type": "code",
      "execution_count": null,
      "metadata": {
        "id": "wK3j5ghkRIfR"
      },
      "outputs": [],
      "source": [
        "[1,2] + [3,4]"
      ]
    },
    {
      "cell_type": "markdown",
      "metadata": {
        "id": "6f_r_rvkRIfR"
      },
      "source": [
        "Use `*` to repeat lists."
      ]
    },
    {
      "cell_type": "code",
      "execution_count": null,
      "metadata": {
        "id": "p_Ey8RzfRIfR"
      },
      "outputs": [],
      "source": [
        "[1]*3"
      ]
    },
    {
      "cell_type": "markdown",
      "metadata": {
        "id": "7iAIiXFbRIfR"
      },
      "source": [
        "Use the `in` operator to check if something is inside a list."
      ]
    },
    {
      "cell_type": "code",
      "execution_count": null,
      "metadata": {
        "id": "tcDq4YGTRIfR"
      },
      "outputs": [],
      "source": [
        "1 in [1, 2, 3]"
      ]
    },
    {
      "cell_type": "markdown",
      "metadata": {
        "id": "VbZ8BWlxRIfR"
      },
      "source": [
        "Now let's look at strings. Use bracket notation to slice a string."
      ]
    },
    {
      "cell_type": "code",
      "execution_count": null,
      "metadata": {
        "id": "eXJMcGJVRIfR"
      },
      "outputs": [],
      "source": [
        "x = 'This is a string'\n",
        "print(x[0]) #first character\n",
        "print(x[0:1]) #first character, but we have explicitly set the end character\n",
        "print(x[0:2]) #first two characters"
      ]
    },
    {
      "cell_type": "markdown",
      "metadata": {
        "id": "cyrVai2CRIfS"
      },
      "source": [
        "This will return the last element of the string."
      ]
    },
    {
      "cell_type": "code",
      "execution_count": null,
      "metadata": {
        "id": "1QMgSj54RIfS"
      },
      "outputs": [],
      "source": [
        "x[-1]"
      ]
    },
    {
      "cell_type": "markdown",
      "metadata": {
        "id": "RvVb-IezRIfS"
      },
      "source": [
        "This will return the slice starting from the 4th element from the end and stopping before the 2nd element from the end."
      ]
    },
    {
      "cell_type": "code",
      "execution_count": null,
      "metadata": {
        "id": "z0-5j2OzRIfS"
      },
      "outputs": [],
      "source": [
        "x[-4:-2]"
      ]
    },
    {
      "cell_type": "markdown",
      "metadata": {
        "id": "flNYKdy5RIfS"
      },
      "source": [
        "This is a slice from the beginning of the string and stopping before the 3rd element."
      ]
    },
    {
      "cell_type": "code",
      "execution_count": null,
      "metadata": {
        "id": "0eRCLBbNRIfS"
      },
      "outputs": [],
      "source": [
        "x[:3]"
      ]
    },
    {
      "cell_type": "markdown",
      "metadata": {
        "id": "kVarCrfjRIfS"
      },
      "source": [
        "And this is a slice starting from the 3rd element of the string and going all the way to the end."
      ]
    },
    {
      "cell_type": "code",
      "execution_count": null,
      "metadata": {
        "id": "lgtkWpiZRIfS"
      },
      "outputs": [],
      "source": [
        "x[3:]"
      ]
    },
    {
      "cell_type": "code",
      "execution_count": null,
      "metadata": {
        "id": "HHiFhjHMRIfT"
      },
      "outputs": [],
      "source": [
        "firstname = 'Gary'\n",
        "lastname = 'Kildall'\n",
        "\n",
        "print(firstname + ' ' + lastname)\n",
        "print(firstname*3)\n",
        "print('Gary' in firstname)"
      ]
    },
    {
      "cell_type": "markdown",
      "metadata": {
        "id": "m09NrURnRIfT"
      },
      "source": [
        "`split` returns a list of all the words in a string, or a list split on a specific character."
      ]
    },
    {
      "cell_type": "code",
      "execution_count": null,
      "metadata": {
        "id": "rgdm8tPORIfT"
      },
      "outputs": [],
      "source": [
        "firstname = 'Gary Arlen Kildall'.split(' ')[0] # [0] selects the first element of the list\n",
        "lastname = 'Gary Arlen Kildall'.split(' ')[-1] # [-1] selects the last element of the list\n",
        "print(firstname)\n",
        "print(lastname)"
      ]
    },
    {
      "cell_type": "markdown",
      "metadata": {
        "id": "-lGhv-eKRIfT"
      },
      "source": [
        "Make sure you convert objects to strings before concatenating."
      ]
    },
    {
      "cell_type": "code",
      "execution_count": null,
      "metadata": {
        "id": "fIboZqR6RIfT"
      },
      "outputs": [],
      "source": [
        "'Gary' + 2\n",
        "'Gary' + str(2)"
      ]
    },
    {
      "cell_type": "markdown",
      "metadata": {
        "id": "iwmPxcskRIfT"
      },
      "source": [
        "Dictionaries associate keys with values."
      ]
    },
    {
      "cell_type": "code",
      "execution_count": null,
      "metadata": {
        "id": "t0PywtbARIfT"
      },
      "outputs": [],
      "source": [
        "x = {'Gary Kildall': 'gkildall@digitalresearch.com', 'Bill Gates': 'billg@microsoft.com'}\n",
        "x['Gary Kildall'] # Retrieve a value by using the indexing operator"
      ]
    },
    {
      "cell_type": "code",
      "execution_count": null,
      "metadata": {
        "id": "P2GJyfZjRIfT"
      },
      "outputs": [],
      "source": [
        "x['Steve Jobs'] = None\n",
        "x['Steve Jobs']"
      ]
    },
    {
      "cell_type": "markdown",
      "metadata": {
        "id": "9d348PR-RIfT"
      },
      "source": [
        "Iterate over all of the keys:"
      ]
    },
    {
      "cell_type": "code",
      "execution_count": null,
      "metadata": {
        "id": "W-RQ3WjWRIfU"
      },
      "outputs": [],
      "source": [
        "for name in x:\n",
        "    print(x[name])"
      ]
    },
    {
      "cell_type": "markdown",
      "metadata": {
        "id": "Y4c4vBmgRIfU"
      },
      "source": [
        "Iterate over all of the values:"
      ]
    },
    {
      "cell_type": "code",
      "execution_count": null,
      "metadata": {
        "id": "Bhu3ETx5RIfU"
      },
      "outputs": [],
      "source": [
        "for email in x.values():\n",
        "    print(email)"
      ]
    },
    {
      "cell_type": "markdown",
      "metadata": {
        "id": "i-dkB3ODRIfU"
      },
      "source": [
        "Iterate over all of the items in the list:"
      ]
    },
    {
      "cell_type": "code",
      "execution_count": null,
      "metadata": {
        "id": "d4peXweNRIfU"
      },
      "outputs": [],
      "source": [
        "for name, email in x.items():\n",
        "    print(name)\n",
        "    print(email)"
      ]
    },
    {
      "cell_type": "markdown",
      "metadata": {
        "id": "aA4ZzCd1RIfU"
      },
      "source": [
        "You can unpack a sequence into different variables:"
      ]
    },
    {
      "cell_type": "code",
      "execution_count": null,
      "metadata": {
        "id": "u9_RDKFlRIfU"
      },
      "outputs": [],
      "source": [
        "x = ('Gary', 'Kildall', 'gkildall@digitalresearch.com')\n",
        "fname, lname, email = x\n",
        "fname\n",
        "lname"
      ]
    },
    {
      "cell_type": "markdown",
      "metadata": {
        "id": "hhA0D6d8RIfU"
      },
      "source": [
        "Make sure the number of values you are unpacking matches the number of variables\n",
        "being assigned."
      ]
    },
    {
      "cell_type": "code",
      "execution_count": null,
      "metadata": {
        "id": "P-TERk6lRIfU"
      },
      "outputs": [],
      "source": [
        "x = ('Gary', 'Kildall', 'gkildall@digitalresearch.com', 'Digital Research')\n",
        "fname, lname, email = x"
      ]
    },
    {
      "cell_type": "markdown",
      "metadata": {
        "id": "rOEvko5_RIfU"
      },
      "source": [
        "# More on Strings"
      ]
    },
    {
      "cell_type": "code",
      "execution_count": null,
      "metadata": {
        "id": "ZgdutkH6RIfV"
      },
      "outputs": [],
      "source": [
        "print('Gary' + 2)"
      ]
    },
    {
      "cell_type": "code",
      "execution_count": null,
      "metadata": {
        "id": "ODZA4PCRRIfV"
      },
      "outputs": [],
      "source": [
        "print('Gary' + str(2))"
      ]
    },
    {
      "cell_type": "markdown",
      "metadata": {
        "id": "FaRT2g75RIfV"
      },
      "source": [
        "Python has a built in method for convenient string formatting."
      ]
    },
    {
      "cell_type": "code",
      "execution_count": null,
      "metadata": {
        "id": "3bt3wzbVRIfV"
      },
      "outputs": [],
      "source": [
        "sales_record = {\n",
        "'price': 3.24,\n",
        "'num_items': 4,\n",
        "'person': 'Gary'}\n",
        "\n",
        "sales_statement = '{} bought {} item(s) at a price of {} each for a total of {}'\n",
        "\n",
        "print(sales_statement.format(sales_record['person'],\n",
        "                             sales_record['num_items'],\n",
        "                             sales_record['price'],\n",
        "                             sales_record['num_items']*sales_record['price']))"
      ]
    },
    {
      "cell_type": "markdown",
      "metadata": {
        "id": "cCMwOSyWRIfV"
      },
      "source": [
        "# Reading and Writing CSV files\n",
        "\n",
        "Let's import our datafile mpg.csv, which contains fuel economy data for 234 cars.\n",
        "\n",
        "* mpg : miles per gallon\n",
        "* class : car classification\n",
        "* cty : city mpg\n",
        "* cyl : # of cylinders\n",
        "* displ : engine displacement in liters\n",
        "* drv : f = front-wheel drive, r = rear wheel drive, 4 = 4wd\n",
        "* fl : fuel (e = ethanol E85, d = diesel, r = regular, p = premium, c = CNG)\n",
        "* hwy : highway mpg\n",
        "* manufacturer : automobile manufacturer\n",
        "* model : model of car\n",
        "* trans : type of transmission\n",
        "* year : model year"
      ]
    },
    {
      "cell_type": "code",
      "execution_count": 24,
      "metadata": {
        "id": "SQrDbh5IRIfV",
        "outputId": "15db87b9-7cf6-4fd3-c58e-77f9d96566a3",
        "colab": {
          "base_uri": "https://localhost:8080/"
        }
      },
      "outputs": [
        {
          "output_type": "execute_result",
          "data": {
            "text/plain": [
              "[{'': '1',\n",
              "  'manufacturer': 'audi',\n",
              "  'model': 'a4',\n",
              "  'displ': '1.8',\n",
              "  'year': '1999',\n",
              "  'cyl': '4',\n",
              "  'trans': 'auto(l5)',\n",
              "  'drv': 'f',\n",
              "  'cty': '18',\n",
              "  'hwy': '29',\n",
              "  'fl': 'p',\n",
              "  'class': 'compact'},\n",
              " {'': '2',\n",
              "  'manufacturer': 'audi',\n",
              "  'model': 'a4',\n",
              "  'displ': '1.8',\n",
              "  'year': '1999',\n",
              "  'cyl': '4',\n",
              "  'trans': 'manual(m5)',\n",
              "  'drv': 'f',\n",
              "  'cty': '21',\n",
              "  'hwy': '29',\n",
              "  'fl': 'p',\n",
              "  'class': 'compact'},\n",
              " {'': '3',\n",
              "  'manufacturer': 'audi',\n",
              "  'model': 'a4',\n",
              "  'displ': '2',\n",
              "  'year': '2008',\n",
              "  'cyl': '4',\n",
              "  'trans': 'manual(m6)',\n",
              "  'drv': 'f',\n",
              "  'cty': '20',\n",
              "  'hwy': '31',\n",
              "  'fl': 'p',\n",
              "  'class': 'compact'}]"
            ]
          },
          "metadata": {},
          "execution_count": 24
        }
      ],
      "source": [
        "import csv\n",
        "\n",
        "%precision 2\n",
        "\n",
        "with open('week1/tutorials_1-1-python-mpg.csv') as csvfile:\n",
        "    mpg = list(csv.DictReader(csvfile))\n",
        "\n",
        "mpg[:3] # The first three dictionaries in our list."
      ]
    },
    {
      "cell_type": "markdown",
      "metadata": {
        "id": "D5TRs5heRIfV"
      },
      "source": [
        "`csv.Dictreader` has read in each row of our csv file as a dictionary. `len` shows that our list is comprised of 234 dictionaries."
      ]
    },
    {
      "cell_type": "code",
      "execution_count": 8,
      "metadata": {
        "id": "6rpZ3x0IRIfV",
        "outputId": "d52c86b6-8e03-4744-857c-7ed9ee25fa52",
        "colab": {
          "base_uri": "https://localhost:8080/"
        }
      },
      "outputs": [
        {
          "output_type": "execute_result",
          "data": {
            "text/plain": [
              "234"
            ]
          },
          "metadata": {},
          "execution_count": 8
        }
      ],
      "source": [
        "len(mpg)"
      ]
    },
    {
      "cell_type": "markdown",
      "metadata": {
        "id": "gLugqUL4RIfV"
      },
      "source": [
        "`keys` gives us the column names of our csv."
      ]
    },
    {
      "cell_type": "code",
      "execution_count": 25,
      "metadata": {
        "id": "0sfTyhDeRIfW",
        "outputId": "86046716-5cf8-4e98-b75a-1ac4bbeb2f31",
        "colab": {
          "base_uri": "https://localhost:8080/"
        }
      },
      "outputs": [
        {
          "output_type": "execute_result",
          "data": {
            "text/plain": [
              "dict_keys(['', 'manufacturer', 'model', 'displ', 'year', 'cyl', 'trans', 'drv', 'cty', 'hwy', 'fl', 'class'])"
            ]
          },
          "metadata": {},
          "execution_count": 25
        }
      ],
      "source": [
        "mpg[0].keys()"
      ]
    },
    {
      "cell_type": "markdown",
      "metadata": {
        "id": "I1hKzdwSRIfW"
      },
      "source": [
        "This is how to find the average cty fuel economy across all cars. All values in the dictionaries are strings, so we need to convert to float."
      ]
    },
    {
      "cell_type": "code",
      "execution_count": 26,
      "metadata": {
        "id": "-GhL5SytRIfW",
        "outputId": "b3d749ce-3295-4361-a7ba-5f7cf935b3fd",
        "colab": {
          "base_uri": "https://localhost:8080/"
        }
      },
      "outputs": [
        {
          "output_type": "execute_result",
          "data": {
            "text/plain": [
              "16.86"
            ]
          },
          "metadata": {},
          "execution_count": 26
        }
      ],
      "source": [
        "sum(float(d['cty']) for d in mpg) / len(mpg)"
      ]
    },
    {
      "cell_type": "markdown",
      "metadata": {
        "id": "v9TSnifSRIfW"
      },
      "source": [
        "Similarly this is how to find the average hwy fuel economy across all cars."
      ]
    },
    {
      "cell_type": "code",
      "execution_count": 27,
      "metadata": {
        "id": "0O9T8DKSRIfW",
        "outputId": "f9a804c4-7079-42bc-872d-7e53aff11286",
        "colab": {
          "base_uri": "https://localhost:8080/"
        }
      },
      "outputs": [
        {
          "output_type": "execute_result",
          "data": {
            "text/plain": [
              "23.44"
            ]
          },
          "metadata": {},
          "execution_count": 27
        }
      ],
      "source": [
        "sum(float(d['hwy']) for d in mpg) / len(mpg)"
      ]
    },
    {
      "cell_type": "markdown",
      "metadata": {
        "id": "BVUahD74RIfW"
      },
      "source": [
        "Use `set` to return the unique values for the number of cylinders the cars in our dataset have."
      ]
    },
    {
      "cell_type": "code",
      "execution_count": 28,
      "metadata": {
        "id": "z8AdqbziRIfW",
        "outputId": "d0929952-b99c-4f7b-fa48-aabe945529c9",
        "colab": {
          "base_uri": "https://localhost:8080/"
        }
      },
      "outputs": [
        {
          "output_type": "execute_result",
          "data": {
            "text/plain": [
              "{'4', '5', '6', '8'}"
            ]
          },
          "metadata": {},
          "execution_count": 28
        }
      ],
      "source": [
        "cylinders = set(d['cyl'] for d in mpg)\n",
        "cylinders"
      ]
    },
    {
      "cell_type": "markdown",
      "metadata": {
        "id": "TGYZTux_RIfW"
      },
      "source": [
        "Here's a more complex example where we are grouping the cars by number of cylinder, and finding the average cty mpg for each group."
      ]
    },
    {
      "cell_type": "code",
      "execution_count": 32,
      "metadata": {
        "id": "MPZ9euWuRIfW",
        "outputId": "1886824c-c5cb-4d39-deb1-8455bbfcc4a1",
        "colab": {
          "base_uri": "https://localhost:8080/"
        }
      },
      "outputs": [
        {
          "output_type": "execute_result",
          "data": {
            "text/plain": [
              "[('4', 21.01), ('5', 20.50), ('6', 16.22), ('8', 12.57)]"
            ]
          },
          "metadata": {},
          "execution_count": 32
        }
      ],
      "source": [
        "CtyMpgByCyl = []\n",
        "\n",
        "for c in cylinders: # iterate over all the cylinder levels\n",
        "    summpg = 0\n",
        "    cyltypecount = 0\n",
        "    for d in mpg: # iterate over all dictionaries\n",
        "        if d['cyl'] == c: # if the cylinder level type matches,\n",
        "            summpg += float(d['cty']) # add the cty mpg\n",
        "            cyltypecount += 1 # increment the count\n",
        "    CtyMpgByCyl.append((c, summpg / cyltypecount)) # append the tuple ('cylinder', 'avg mpg')\n",
        "\n",
        "CtyMpgByCyl.sort(key=lambda x: x[0])\n",
        "CtyMpgByCyl"
      ]
    },
    {
      "cell_type": "markdown",
      "metadata": {
        "id": "jvee9ZJFRIfW"
      },
      "source": [
        "Use `set` to return the unique values for the class types in our dataset."
      ]
    },
    {
      "cell_type": "code",
      "execution_count": 33,
      "metadata": {
        "id": "siQRS20oRIfX",
        "outputId": "214ccdb1-8bc0-4b58-af61-63bb3985041b",
        "colab": {
          "base_uri": "https://localhost:8080/"
        }
      },
      "outputs": [
        {
          "output_type": "execute_result",
          "data": {
            "text/plain": [
              "{'2seater', 'compact', 'midsize', 'minivan', 'pickup', 'subcompact', 'suv'}"
            ]
          },
          "metadata": {},
          "execution_count": 33
        }
      ],
      "source": [
        "vehicleclass = set(d['class'] for d in mpg) # what are the class types\n",
        "vehicleclass"
      ]
    },
    {
      "cell_type": "markdown",
      "metadata": {
        "id": "RpqJcDZPRIfX"
      },
      "source": [
        "And here's an example of how to find the average hwy mpg for each class of vehicle in our dataset."
      ]
    },
    {
      "cell_type": "code",
      "execution_count": 34,
      "metadata": {
        "id": "MqfsgBjKRIfX",
        "outputId": "9cd6aa8d-5237-46ff-8542-e1ba19f1c6f6",
        "colab": {
          "base_uri": "https://localhost:8080/"
        }
      },
      "outputs": [
        {
          "output_type": "execute_result",
          "data": {
            "text/plain": [
              "[('pickup', 16.88),\n",
              " ('suv', 18.13),\n",
              " ('minivan', 22.36),\n",
              " ('2seater', 24.80),\n",
              " ('midsize', 27.29),\n",
              " ('subcompact', 28.14),\n",
              " ('compact', 28.30)]"
            ]
          },
          "metadata": {},
          "execution_count": 34
        }
      ],
      "source": [
        "HwyMpgByClass = []\n",
        "\n",
        "for t in vehicleclass: # iterate over all the vehicle classes\n",
        "    summpg = 0\n",
        "    vclasscount = 0\n",
        "    for d in mpg: # iterate over all dictionaries\n",
        "        if d['class'] == t: # if the class type matches,\n",
        "            summpg += float(d['hwy']) # add the hwy mpg\n",
        "            vclasscount += 1 # increment the count\n",
        "    HwyMpgByClass.append((t, summpg / vclasscount)) # append the tuple ('class', 'avg mpg')\n",
        "\n",
        "HwyMpgByClass.sort(key=lambda x: x[1])\n",
        "HwyMpgByClass"
      ]
    },
    {
      "cell_type": "markdown",
      "metadata": {
        "id": "w6PMOR5YRIfX"
      },
      "source": [
        "# Dates and Times"
      ]
    },
    {
      "cell_type": "code",
      "execution_count": 35,
      "metadata": {
        "id": "5qN-3HxcRIfX"
      },
      "outputs": [],
      "source": [
        "import datetime as dt\n",
        "import time as tm"
      ]
    },
    {
      "cell_type": "markdown",
      "metadata": {
        "id": "bAA5eUfYRIfX"
      },
      "source": [
        "`time` returns the current time in seconds since the Epoch. (January 1st, 1970)"
      ]
    },
    {
      "cell_type": "code",
      "execution_count": 36,
      "metadata": {
        "id": "c0Uq5KliRIfY",
        "outputId": "136e49eb-3dd6-4331-e047-1b9e839c71a6",
        "colab": {
          "base_uri": "https://localhost:8080/"
        }
      },
      "outputs": [
        {
          "output_type": "execute_result",
          "data": {
            "text/plain": [
              "1705006739.96"
            ]
          },
          "metadata": {},
          "execution_count": 36
        }
      ],
      "source": [
        "tm.time()"
      ]
    },
    {
      "cell_type": "markdown",
      "metadata": {
        "id": "4ZcIYVknRIfY"
      },
      "source": [
        "Convert the timestamp to datetime."
      ]
    },
    {
      "cell_type": "code",
      "execution_count": 37,
      "metadata": {
        "id": "raWoMBJ1RIfY",
        "outputId": "5dbadd50-b086-4c1b-954c-2944ca6ed67d",
        "colab": {
          "base_uri": "https://localhost:8080/"
        }
      },
      "outputs": [
        {
          "output_type": "execute_result",
          "data": {
            "text/plain": [
              "datetime.datetime(2024, 1, 11, 20, 59, 1, 427929)"
            ]
          },
          "metadata": {},
          "execution_count": 37
        }
      ],
      "source": [
        "dtnow = dt.datetime.fromtimestamp(tm.time())\n",
        "dtnow"
      ]
    },
    {
      "cell_type": "markdown",
      "metadata": {
        "id": "OMcHV45dRIfY"
      },
      "source": [
        "Handy datetime attributes:"
      ]
    },
    {
      "cell_type": "code",
      "execution_count": 38,
      "metadata": {
        "id": "7c9lCyYNRIfY",
        "outputId": "49baa4ba-aace-44e9-8962-8435478a4ac6",
        "colab": {
          "base_uri": "https://localhost:8080/"
        }
      },
      "outputs": [
        {
          "output_type": "execute_result",
          "data": {
            "text/plain": [
              "(2024, 1, 11, 20, 59, 1)"
            ]
          },
          "metadata": {},
          "execution_count": 38
        }
      ],
      "source": [
        "dtnow.year, dtnow.month, dtnow.day, dtnow.hour, dtnow.minute, dtnow.second # get year, month, day, etc.from a datetime"
      ]
    },
    {
      "cell_type": "markdown",
      "metadata": {
        "id": "8umKknBxRIfY"
      },
      "source": [
        "`timedelta` is a duration expressing the difference between two dates."
      ]
    },
    {
      "cell_type": "code",
      "execution_count": 39,
      "metadata": {
        "id": "QyUX4wHORIfY",
        "outputId": "9ac91719-bbcb-49e3-9d61-46d7c67cc219",
        "colab": {
          "base_uri": "https://localhost:8080/"
        }
      },
      "outputs": [
        {
          "output_type": "execute_result",
          "data": {
            "text/plain": [
              "datetime.timedelta(days=100)"
            ]
          },
          "metadata": {},
          "execution_count": 39
        }
      ],
      "source": [
        "delta = dt.timedelta(days = 100) # create a timedelta of 100 days\n",
        "delta"
      ]
    },
    {
      "cell_type": "markdown",
      "metadata": {
        "id": "10uYR1rORIfY"
      },
      "source": [
        "`date.today` returns the current local date."
      ]
    },
    {
      "cell_type": "code",
      "execution_count": 40,
      "metadata": {
        "id": "m5yALzX2RIfY",
        "outputId": "1b40bb44-2166-4cb8-fd7d-4b36ceac1ac3",
        "colab": {
          "base_uri": "https://localhost:8080/"
        }
      },
      "outputs": [
        {
          "output_type": "execute_result",
          "data": {
            "text/plain": [
              "True"
            ]
          },
          "metadata": {},
          "execution_count": 40
        }
      ],
      "source": [
        "today = dt.date.today()\n",
        "today - delta # the date 100 days ago\n",
        "today > today-delta # compare dates"
      ]
    },
    {
      "cell_type": "markdown",
      "metadata": {
        "id": "SSCspQM_RIfY"
      },
      "source": [
        "# Objects and map()\n",
        "\n",
        "An example of a class in python:"
      ]
    },
    {
      "cell_type": "code",
      "execution_count": 41,
      "metadata": {
        "id": "bwXo-FKARIfZ"
      },
      "outputs": [],
      "source": [
        "class Person:\n",
        "    department = 'School of Information' #a class variable\n",
        "\n",
        "    def set_name(self, new_name): #a method\n",
        "        self.name = new_name\n",
        "    def set_location(self, new_location):\n",
        "        self.location = new_location"
      ]
    },
    {
      "cell_type": "code",
      "execution_count": 42,
      "metadata": {
        "id": "Wg-8StLmRIfZ",
        "outputId": "0353ae14-fc3f-4323-eea5-dbb74e0d56e9",
        "colab": {
          "base_uri": "https://localhost:8080/"
        }
      },
      "outputs": [
        {
          "output_type": "stream",
          "name": "stdout",
          "text": [
            "Gary Kildall live in Ann Arbor, MI, USA and works in the department School of Information\n"
          ]
        }
      ],
      "source": [
        "person = Person()\n",
        "person.set_name('Gary Kildall')\n",
        "person.set_location('Ann Arbor, MI, USA')\n",
        "print('{} live in {} and works in the department {}'.format(person.name, person.location, person.department))"
      ]
    },
    {
      "cell_type": "markdown",
      "metadata": {
        "id": "oys-KV-mRIfZ"
      },
      "source": [
        "Here's an example of mapping the `min` function between two lists."
      ]
    },
    {
      "cell_type": "code",
      "execution_count": 43,
      "metadata": {
        "id": "cgFLofuARIfZ",
        "outputId": "57d8cbc7-a55e-47cc-8cfe-8676c4b013dc",
        "colab": {
          "base_uri": "https://localhost:8080/"
        }
      },
      "outputs": [
        {
          "output_type": "execute_result",
          "data": {
            "text/plain": [
              "<map at 0x7a36c1deff40>"
            ]
          },
          "metadata": {},
          "execution_count": 43
        }
      ],
      "source": [
        "store1 = [10.00, 11.00, 12.34, 2.34]\n",
        "store2 = [9.00, 11.10, 12.34, 2.01]\n",
        "cheapest = map(min, store1, store2)\n",
        "cheapest"
      ]
    },
    {
      "cell_type": "markdown",
      "metadata": {
        "id": "CNxzOIFWRIfZ"
      },
      "source": [
        "Now let's iterate through the map object to see the values."
      ]
    },
    {
      "cell_type": "code",
      "execution_count": 44,
      "metadata": {
        "id": "zhMgQTL_RIfZ",
        "outputId": "69adc418-5252-40f8-eae7-a8a198dbcc90",
        "colab": {
          "base_uri": "https://localhost:8080/"
        }
      },
      "outputs": [
        {
          "output_type": "stream",
          "name": "stdout",
          "text": [
            "9.0\n",
            "11.0\n",
            "12.34\n",
            "2.01\n"
          ]
        }
      ],
      "source": [
        "for item in cheapest:\n",
        "    print(item)"
      ]
    },
    {
      "cell_type": "markdown",
      "metadata": {
        "id": "b9FBFgJ7RIfZ"
      },
      "source": [
        "# Lambda and List Comprehensions\n",
        "\n",
        "\n",
        "Here's an example of lambda that takes in three parameters and adds the first two."
      ]
    },
    {
      "cell_type": "code",
      "execution_count": 45,
      "metadata": {
        "id": "cM5KXrZWRIfZ",
        "outputId": "faa133e2-dbf2-4483-8520-b1230cce4329",
        "colab": {
          "base_uri": "https://localhost:8080/"
        }
      },
      "outputs": [
        {
          "output_type": "execute_result",
          "data": {
            "text/plain": [
              "3"
            ]
          },
          "metadata": {},
          "execution_count": 45
        }
      ],
      "source": [
        "my_function = lambda a, b, c : a + b\n",
        "my_function(1, 2, 3)"
      ]
    },
    {
      "cell_type": "markdown",
      "metadata": {
        "id": "OgVitIFaRIfZ"
      },
      "source": [
        "Let's iterate from 0 to 999 and return the even numbers."
      ]
    },
    {
      "cell_type": "code",
      "execution_count": 46,
      "metadata": {
        "id": "Jgy8OgoHRIfZ",
        "outputId": "4d2abc2d-6c69-4681-fd11-33a4b507ce8d",
        "colab": {
          "base_uri": "https://localhost:8080/"
        }
      },
      "outputs": [
        {
          "output_type": "execute_result",
          "data": {
            "text/plain": [
              "[0,\n",
              " 2,\n",
              " 4,\n",
              " 6,\n",
              " 8,\n",
              " 10,\n",
              " 12,\n",
              " 14,\n",
              " 16,\n",
              " 18,\n",
              " 20,\n",
              " 22,\n",
              " 24,\n",
              " 26,\n",
              " 28,\n",
              " 30,\n",
              " 32,\n",
              " 34,\n",
              " 36,\n",
              " 38,\n",
              " 40,\n",
              " 42,\n",
              " 44,\n",
              " 46,\n",
              " 48,\n",
              " 50,\n",
              " 52,\n",
              " 54,\n",
              " 56,\n",
              " 58,\n",
              " 60,\n",
              " 62,\n",
              " 64,\n",
              " 66,\n",
              " 68,\n",
              " 70,\n",
              " 72,\n",
              " 74,\n",
              " 76,\n",
              " 78,\n",
              " 80,\n",
              " 82,\n",
              " 84,\n",
              " 86,\n",
              " 88,\n",
              " 90,\n",
              " 92,\n",
              " 94,\n",
              " 96,\n",
              " 98,\n",
              " 100,\n",
              " 102,\n",
              " 104,\n",
              " 106,\n",
              " 108,\n",
              " 110,\n",
              " 112,\n",
              " 114,\n",
              " 116,\n",
              " 118,\n",
              " 120,\n",
              " 122,\n",
              " 124,\n",
              " 126,\n",
              " 128,\n",
              " 130,\n",
              " 132,\n",
              " 134,\n",
              " 136,\n",
              " 138,\n",
              " 140,\n",
              " 142,\n",
              " 144,\n",
              " 146,\n",
              " 148,\n",
              " 150,\n",
              " 152,\n",
              " 154,\n",
              " 156,\n",
              " 158,\n",
              " 160,\n",
              " 162,\n",
              " 164,\n",
              " 166,\n",
              " 168,\n",
              " 170,\n",
              " 172,\n",
              " 174,\n",
              " 176,\n",
              " 178,\n",
              " 180,\n",
              " 182,\n",
              " 184,\n",
              " 186,\n",
              " 188,\n",
              " 190,\n",
              " 192,\n",
              " 194,\n",
              " 196,\n",
              " 198,\n",
              " 200,\n",
              " 202,\n",
              " 204,\n",
              " 206,\n",
              " 208,\n",
              " 210,\n",
              " 212,\n",
              " 214,\n",
              " 216,\n",
              " 218,\n",
              " 220,\n",
              " 222,\n",
              " 224,\n",
              " 226,\n",
              " 228,\n",
              " 230,\n",
              " 232,\n",
              " 234,\n",
              " 236,\n",
              " 238,\n",
              " 240,\n",
              " 242,\n",
              " 244,\n",
              " 246,\n",
              " 248,\n",
              " 250,\n",
              " 252,\n",
              " 254,\n",
              " 256,\n",
              " 258,\n",
              " 260,\n",
              " 262,\n",
              " 264,\n",
              " 266,\n",
              " 268,\n",
              " 270,\n",
              " 272,\n",
              " 274,\n",
              " 276,\n",
              " 278,\n",
              " 280,\n",
              " 282,\n",
              " 284,\n",
              " 286,\n",
              " 288,\n",
              " 290,\n",
              " 292,\n",
              " 294,\n",
              " 296,\n",
              " 298,\n",
              " 300,\n",
              " 302,\n",
              " 304,\n",
              " 306,\n",
              " 308,\n",
              " 310,\n",
              " 312,\n",
              " 314,\n",
              " 316,\n",
              " 318,\n",
              " 320,\n",
              " 322,\n",
              " 324,\n",
              " 326,\n",
              " 328,\n",
              " 330,\n",
              " 332,\n",
              " 334,\n",
              " 336,\n",
              " 338,\n",
              " 340,\n",
              " 342,\n",
              " 344,\n",
              " 346,\n",
              " 348,\n",
              " 350,\n",
              " 352,\n",
              " 354,\n",
              " 356,\n",
              " 358,\n",
              " 360,\n",
              " 362,\n",
              " 364,\n",
              " 366,\n",
              " 368,\n",
              " 370,\n",
              " 372,\n",
              " 374,\n",
              " 376,\n",
              " 378,\n",
              " 380,\n",
              " 382,\n",
              " 384,\n",
              " 386,\n",
              " 388,\n",
              " 390,\n",
              " 392,\n",
              " 394,\n",
              " 396,\n",
              " 398,\n",
              " 400,\n",
              " 402,\n",
              " 404,\n",
              " 406,\n",
              " 408,\n",
              " 410,\n",
              " 412,\n",
              " 414,\n",
              " 416,\n",
              " 418,\n",
              " 420,\n",
              " 422,\n",
              " 424,\n",
              " 426,\n",
              " 428,\n",
              " 430,\n",
              " 432,\n",
              " 434,\n",
              " 436,\n",
              " 438,\n",
              " 440,\n",
              " 442,\n",
              " 444,\n",
              " 446,\n",
              " 448,\n",
              " 450,\n",
              " 452,\n",
              " 454,\n",
              " 456,\n",
              " 458,\n",
              " 460,\n",
              " 462,\n",
              " 464,\n",
              " 466,\n",
              " 468,\n",
              " 470,\n",
              " 472,\n",
              " 474,\n",
              " 476,\n",
              " 478,\n",
              " 480,\n",
              " 482,\n",
              " 484,\n",
              " 486,\n",
              " 488,\n",
              " 490,\n",
              " 492,\n",
              " 494,\n",
              " 496,\n",
              " 498,\n",
              " 500,\n",
              " 502,\n",
              " 504,\n",
              " 506,\n",
              " 508,\n",
              " 510,\n",
              " 512,\n",
              " 514,\n",
              " 516,\n",
              " 518,\n",
              " 520,\n",
              " 522,\n",
              " 524,\n",
              " 526,\n",
              " 528,\n",
              " 530,\n",
              " 532,\n",
              " 534,\n",
              " 536,\n",
              " 538,\n",
              " 540,\n",
              " 542,\n",
              " 544,\n",
              " 546,\n",
              " 548,\n",
              " 550,\n",
              " 552,\n",
              " 554,\n",
              " 556,\n",
              " 558,\n",
              " 560,\n",
              " 562,\n",
              " 564,\n",
              " 566,\n",
              " 568,\n",
              " 570,\n",
              " 572,\n",
              " 574,\n",
              " 576,\n",
              " 578,\n",
              " 580,\n",
              " 582,\n",
              " 584,\n",
              " 586,\n",
              " 588,\n",
              " 590,\n",
              " 592,\n",
              " 594,\n",
              " 596,\n",
              " 598,\n",
              " 600,\n",
              " 602,\n",
              " 604,\n",
              " 606,\n",
              " 608,\n",
              " 610,\n",
              " 612,\n",
              " 614,\n",
              " 616,\n",
              " 618,\n",
              " 620,\n",
              " 622,\n",
              " 624,\n",
              " 626,\n",
              " 628,\n",
              " 630,\n",
              " 632,\n",
              " 634,\n",
              " 636,\n",
              " 638,\n",
              " 640,\n",
              " 642,\n",
              " 644,\n",
              " 646,\n",
              " 648,\n",
              " 650,\n",
              " 652,\n",
              " 654,\n",
              " 656,\n",
              " 658,\n",
              " 660,\n",
              " 662,\n",
              " 664,\n",
              " 666,\n",
              " 668,\n",
              " 670,\n",
              " 672,\n",
              " 674,\n",
              " 676,\n",
              " 678,\n",
              " 680,\n",
              " 682,\n",
              " 684,\n",
              " 686,\n",
              " 688,\n",
              " 690,\n",
              " 692,\n",
              " 694,\n",
              " 696,\n",
              " 698,\n",
              " 700,\n",
              " 702,\n",
              " 704,\n",
              " 706,\n",
              " 708,\n",
              " 710,\n",
              " 712,\n",
              " 714,\n",
              " 716,\n",
              " 718,\n",
              " 720,\n",
              " 722,\n",
              " 724,\n",
              " 726,\n",
              " 728,\n",
              " 730,\n",
              " 732,\n",
              " 734,\n",
              " 736,\n",
              " 738,\n",
              " 740,\n",
              " 742,\n",
              " 744,\n",
              " 746,\n",
              " 748,\n",
              " 750,\n",
              " 752,\n",
              " 754,\n",
              " 756,\n",
              " 758,\n",
              " 760,\n",
              " 762,\n",
              " 764,\n",
              " 766,\n",
              " 768,\n",
              " 770,\n",
              " 772,\n",
              " 774,\n",
              " 776,\n",
              " 778,\n",
              " 780,\n",
              " 782,\n",
              " 784,\n",
              " 786,\n",
              " 788,\n",
              " 790,\n",
              " 792,\n",
              " 794,\n",
              " 796,\n",
              " 798,\n",
              " 800,\n",
              " 802,\n",
              " 804,\n",
              " 806,\n",
              " 808,\n",
              " 810,\n",
              " 812,\n",
              " 814,\n",
              " 816,\n",
              " 818,\n",
              " 820,\n",
              " 822,\n",
              " 824,\n",
              " 826,\n",
              " 828,\n",
              " 830,\n",
              " 832,\n",
              " 834,\n",
              " 836,\n",
              " 838,\n",
              " 840,\n",
              " 842,\n",
              " 844,\n",
              " 846,\n",
              " 848,\n",
              " 850,\n",
              " 852,\n",
              " 854,\n",
              " 856,\n",
              " 858,\n",
              " 860,\n",
              " 862,\n",
              " 864,\n",
              " 866,\n",
              " 868,\n",
              " 870,\n",
              " 872,\n",
              " 874,\n",
              " 876,\n",
              " 878,\n",
              " 880,\n",
              " 882,\n",
              " 884,\n",
              " 886,\n",
              " 888,\n",
              " 890,\n",
              " 892,\n",
              " 894,\n",
              " 896,\n",
              " 898,\n",
              " 900,\n",
              " 902,\n",
              " 904,\n",
              " 906,\n",
              " 908,\n",
              " 910,\n",
              " 912,\n",
              " 914,\n",
              " 916,\n",
              " 918,\n",
              " 920,\n",
              " 922,\n",
              " 924,\n",
              " 926,\n",
              " 928,\n",
              " 930,\n",
              " 932,\n",
              " 934,\n",
              " 936,\n",
              " 938,\n",
              " 940,\n",
              " 942,\n",
              " 944,\n",
              " 946,\n",
              " 948,\n",
              " 950,\n",
              " 952,\n",
              " 954,\n",
              " 956,\n",
              " 958,\n",
              " 960,\n",
              " 962,\n",
              " 964,\n",
              " 966,\n",
              " 968,\n",
              " 970,\n",
              " 972,\n",
              " 974,\n",
              " 976,\n",
              " 978,\n",
              " 980,\n",
              " 982,\n",
              " 984,\n",
              " 986,\n",
              " 988,\n",
              " 990,\n",
              " 992,\n",
              " 994,\n",
              " 996,\n",
              " 998]"
            ]
          },
          "metadata": {},
          "execution_count": 46
        }
      ],
      "source": [
        "my_list = []\n",
        "for number in range(0, 1000):\n",
        "    if number % 2 == 0:\n",
        "        my_list.append(number)\n",
        "my_list"
      ]
    },
    {
      "cell_type": "markdown",
      "metadata": {
        "id": "0P64_exgRIfa"
      },
      "source": [
        "Now the same thing but with list comprehension."
      ]
    },
    {
      "cell_type": "code",
      "execution_count": 47,
      "metadata": {
        "id": "ZadEiiNaRIfa",
        "outputId": "74e95f71-cb73-4a35-d2e8-4d2192ab10ff",
        "colab": {
          "base_uri": "https://localhost:8080/"
        }
      },
      "outputs": [
        {
          "output_type": "execute_result",
          "data": {
            "text/plain": [
              "[0,\n",
              " 2,\n",
              " 4,\n",
              " 6,\n",
              " 8,\n",
              " 10,\n",
              " 12,\n",
              " 14,\n",
              " 16,\n",
              " 18,\n",
              " 20,\n",
              " 22,\n",
              " 24,\n",
              " 26,\n",
              " 28,\n",
              " 30,\n",
              " 32,\n",
              " 34,\n",
              " 36,\n",
              " 38,\n",
              " 40,\n",
              " 42,\n",
              " 44,\n",
              " 46,\n",
              " 48,\n",
              " 50,\n",
              " 52,\n",
              " 54,\n",
              " 56,\n",
              " 58,\n",
              " 60,\n",
              " 62,\n",
              " 64,\n",
              " 66,\n",
              " 68,\n",
              " 70,\n",
              " 72,\n",
              " 74,\n",
              " 76,\n",
              " 78,\n",
              " 80,\n",
              " 82,\n",
              " 84,\n",
              " 86,\n",
              " 88,\n",
              " 90,\n",
              " 92,\n",
              " 94,\n",
              " 96,\n",
              " 98,\n",
              " 100,\n",
              " 102,\n",
              " 104,\n",
              " 106,\n",
              " 108,\n",
              " 110,\n",
              " 112,\n",
              " 114,\n",
              " 116,\n",
              " 118,\n",
              " 120,\n",
              " 122,\n",
              " 124,\n",
              " 126,\n",
              " 128,\n",
              " 130,\n",
              " 132,\n",
              " 134,\n",
              " 136,\n",
              " 138,\n",
              " 140,\n",
              " 142,\n",
              " 144,\n",
              " 146,\n",
              " 148,\n",
              " 150,\n",
              " 152,\n",
              " 154,\n",
              " 156,\n",
              " 158,\n",
              " 160,\n",
              " 162,\n",
              " 164,\n",
              " 166,\n",
              " 168,\n",
              " 170,\n",
              " 172,\n",
              " 174,\n",
              " 176,\n",
              " 178,\n",
              " 180,\n",
              " 182,\n",
              " 184,\n",
              " 186,\n",
              " 188,\n",
              " 190,\n",
              " 192,\n",
              " 194,\n",
              " 196,\n",
              " 198,\n",
              " 200,\n",
              " 202,\n",
              " 204,\n",
              " 206,\n",
              " 208,\n",
              " 210,\n",
              " 212,\n",
              " 214,\n",
              " 216,\n",
              " 218,\n",
              " 220,\n",
              " 222,\n",
              " 224,\n",
              " 226,\n",
              " 228,\n",
              " 230,\n",
              " 232,\n",
              " 234,\n",
              " 236,\n",
              " 238,\n",
              " 240,\n",
              " 242,\n",
              " 244,\n",
              " 246,\n",
              " 248,\n",
              " 250,\n",
              " 252,\n",
              " 254,\n",
              " 256,\n",
              " 258,\n",
              " 260,\n",
              " 262,\n",
              " 264,\n",
              " 266,\n",
              " 268,\n",
              " 270,\n",
              " 272,\n",
              " 274,\n",
              " 276,\n",
              " 278,\n",
              " 280,\n",
              " 282,\n",
              " 284,\n",
              " 286,\n",
              " 288,\n",
              " 290,\n",
              " 292,\n",
              " 294,\n",
              " 296,\n",
              " 298,\n",
              " 300,\n",
              " 302,\n",
              " 304,\n",
              " 306,\n",
              " 308,\n",
              " 310,\n",
              " 312,\n",
              " 314,\n",
              " 316,\n",
              " 318,\n",
              " 320,\n",
              " 322,\n",
              " 324,\n",
              " 326,\n",
              " 328,\n",
              " 330,\n",
              " 332,\n",
              " 334,\n",
              " 336,\n",
              " 338,\n",
              " 340,\n",
              " 342,\n",
              " 344,\n",
              " 346,\n",
              " 348,\n",
              " 350,\n",
              " 352,\n",
              " 354,\n",
              " 356,\n",
              " 358,\n",
              " 360,\n",
              " 362,\n",
              " 364,\n",
              " 366,\n",
              " 368,\n",
              " 370,\n",
              " 372,\n",
              " 374,\n",
              " 376,\n",
              " 378,\n",
              " 380,\n",
              " 382,\n",
              " 384,\n",
              " 386,\n",
              " 388,\n",
              " 390,\n",
              " 392,\n",
              " 394,\n",
              " 396,\n",
              " 398,\n",
              " 400,\n",
              " 402,\n",
              " 404,\n",
              " 406,\n",
              " 408,\n",
              " 410,\n",
              " 412,\n",
              " 414,\n",
              " 416,\n",
              " 418,\n",
              " 420,\n",
              " 422,\n",
              " 424,\n",
              " 426,\n",
              " 428,\n",
              " 430,\n",
              " 432,\n",
              " 434,\n",
              " 436,\n",
              " 438,\n",
              " 440,\n",
              " 442,\n",
              " 444,\n",
              " 446,\n",
              " 448,\n",
              " 450,\n",
              " 452,\n",
              " 454,\n",
              " 456,\n",
              " 458,\n",
              " 460,\n",
              " 462,\n",
              " 464,\n",
              " 466,\n",
              " 468,\n",
              " 470,\n",
              " 472,\n",
              " 474,\n",
              " 476,\n",
              " 478,\n",
              " 480,\n",
              " 482,\n",
              " 484,\n",
              " 486,\n",
              " 488,\n",
              " 490,\n",
              " 492,\n",
              " 494,\n",
              " 496,\n",
              " 498,\n",
              " 500,\n",
              " 502,\n",
              " 504,\n",
              " 506,\n",
              " 508,\n",
              " 510,\n",
              " 512,\n",
              " 514,\n",
              " 516,\n",
              " 518,\n",
              " 520,\n",
              " 522,\n",
              " 524,\n",
              " 526,\n",
              " 528,\n",
              " 530,\n",
              " 532,\n",
              " 534,\n",
              " 536,\n",
              " 538,\n",
              " 540,\n",
              " 542,\n",
              " 544,\n",
              " 546,\n",
              " 548,\n",
              " 550,\n",
              " 552,\n",
              " 554,\n",
              " 556,\n",
              " 558,\n",
              " 560,\n",
              " 562,\n",
              " 564,\n",
              " 566,\n",
              " 568,\n",
              " 570,\n",
              " 572,\n",
              " 574,\n",
              " 576,\n",
              " 578,\n",
              " 580,\n",
              " 582,\n",
              " 584,\n",
              " 586,\n",
              " 588,\n",
              " 590,\n",
              " 592,\n",
              " 594,\n",
              " 596,\n",
              " 598,\n",
              " 600,\n",
              " 602,\n",
              " 604,\n",
              " 606,\n",
              " 608,\n",
              " 610,\n",
              " 612,\n",
              " 614,\n",
              " 616,\n",
              " 618,\n",
              " 620,\n",
              " 622,\n",
              " 624,\n",
              " 626,\n",
              " 628,\n",
              " 630,\n",
              " 632,\n",
              " 634,\n",
              " 636,\n",
              " 638,\n",
              " 640,\n",
              " 642,\n",
              " 644,\n",
              " 646,\n",
              " 648,\n",
              " 650,\n",
              " 652,\n",
              " 654,\n",
              " 656,\n",
              " 658,\n",
              " 660,\n",
              " 662,\n",
              " 664,\n",
              " 666,\n",
              " 668,\n",
              " 670,\n",
              " 672,\n",
              " 674,\n",
              " 676,\n",
              " 678,\n",
              " 680,\n",
              " 682,\n",
              " 684,\n",
              " 686,\n",
              " 688,\n",
              " 690,\n",
              " 692,\n",
              " 694,\n",
              " 696,\n",
              " 698,\n",
              " 700,\n",
              " 702,\n",
              " 704,\n",
              " 706,\n",
              " 708,\n",
              " 710,\n",
              " 712,\n",
              " 714,\n",
              " 716,\n",
              " 718,\n",
              " 720,\n",
              " 722,\n",
              " 724,\n",
              " 726,\n",
              " 728,\n",
              " 730,\n",
              " 732,\n",
              " 734,\n",
              " 736,\n",
              " 738,\n",
              " 740,\n",
              " 742,\n",
              " 744,\n",
              " 746,\n",
              " 748,\n",
              " 750,\n",
              " 752,\n",
              " 754,\n",
              " 756,\n",
              " 758,\n",
              " 760,\n",
              " 762,\n",
              " 764,\n",
              " 766,\n",
              " 768,\n",
              " 770,\n",
              " 772,\n",
              " 774,\n",
              " 776,\n",
              " 778,\n",
              " 780,\n",
              " 782,\n",
              " 784,\n",
              " 786,\n",
              " 788,\n",
              " 790,\n",
              " 792,\n",
              " 794,\n",
              " 796,\n",
              " 798,\n",
              " 800,\n",
              " 802,\n",
              " 804,\n",
              " 806,\n",
              " 808,\n",
              " 810,\n",
              " 812,\n",
              " 814,\n",
              " 816,\n",
              " 818,\n",
              " 820,\n",
              " 822,\n",
              " 824,\n",
              " 826,\n",
              " 828,\n",
              " 830,\n",
              " 832,\n",
              " 834,\n",
              " 836,\n",
              " 838,\n",
              " 840,\n",
              " 842,\n",
              " 844,\n",
              " 846,\n",
              " 848,\n",
              " 850,\n",
              " 852,\n",
              " 854,\n",
              " 856,\n",
              " 858,\n",
              " 860,\n",
              " 862,\n",
              " 864,\n",
              " 866,\n",
              " 868,\n",
              " 870,\n",
              " 872,\n",
              " 874,\n",
              " 876,\n",
              " 878,\n",
              " 880,\n",
              " 882,\n",
              " 884,\n",
              " 886,\n",
              " 888,\n",
              " 890,\n",
              " 892,\n",
              " 894,\n",
              " 896,\n",
              " 898,\n",
              " 900,\n",
              " 902,\n",
              " 904,\n",
              " 906,\n",
              " 908,\n",
              " 910,\n",
              " 912,\n",
              " 914,\n",
              " 916,\n",
              " 918,\n",
              " 920,\n",
              " 922,\n",
              " 924,\n",
              " 926,\n",
              " 928,\n",
              " 930,\n",
              " 932,\n",
              " 934,\n",
              " 936,\n",
              " 938,\n",
              " 940,\n",
              " 942,\n",
              " 944,\n",
              " 946,\n",
              " 948,\n",
              " 950,\n",
              " 952,\n",
              " 954,\n",
              " 956,\n",
              " 958,\n",
              " 960,\n",
              " 962,\n",
              " 964,\n",
              " 966,\n",
              " 968,\n",
              " 970,\n",
              " 972,\n",
              " 974,\n",
              " 976,\n",
              " 978,\n",
              " 980,\n",
              " 982,\n",
              " 984,\n",
              " 986,\n",
              " 988,\n",
              " 990,\n",
              " 992,\n",
              " 994,\n",
              " 996,\n",
              " 998]"
            ]
          },
          "metadata": {},
          "execution_count": 47
        }
      ],
      "source": [
        "my_list = [number for number in range(0,1000) if number % 2 == 0]\n",
        "my_list"
      ]
    },
    {
      "cell_type": "markdown",
      "metadata": {
        "id": "JITOeRg2RIfa"
      },
      "source": [
        "# Numerical Python (NumPy)"
      ]
    },
    {
      "cell_type": "code",
      "execution_count": 48,
      "metadata": {
        "id": "1-SEx_VuRIfa"
      },
      "outputs": [],
      "source": [
        "import numpy as np"
      ]
    },
    {
      "cell_type": "markdown",
      "metadata": {
        "id": "wPFVhLVpRIfa"
      },
      "source": [
        "## Creating Arrays\n",
        "\n",
        "Create a list and convert it to a numpy array"
      ]
    },
    {
      "cell_type": "code",
      "execution_count": 49,
      "metadata": {
        "id": "hquWvsSDRIfa",
        "outputId": "506167c7-aba6-476f-a00e-1f9fc305a3f3",
        "colab": {
          "base_uri": "https://localhost:8080/"
        }
      },
      "outputs": [
        {
          "output_type": "execute_result",
          "data": {
            "text/plain": [
              "array([1, 2, 3])"
            ]
          },
          "metadata": {},
          "execution_count": 49
        }
      ],
      "source": [
        "mylist = [1, 2, 3]\n",
        "x = np.array(mylist)\n",
        "x"
      ]
    },
    {
      "cell_type": "markdown",
      "metadata": {
        "id": "rIpUToyrRIfa"
      },
      "source": [
        "Or just pass in a list directly"
      ]
    },
    {
      "cell_type": "code",
      "execution_count": 50,
      "metadata": {
        "id": "OVvZEgCMRIfa",
        "outputId": "068efd41-16f7-40e9-de75-0a6db39f9798",
        "colab": {
          "base_uri": "https://localhost:8080/"
        }
      },
      "outputs": [
        {
          "output_type": "execute_result",
          "data": {
            "text/plain": [
              "array([4, 5, 6])"
            ]
          },
          "metadata": {},
          "execution_count": 50
        }
      ],
      "source": [
        "y = np.array([4, 5, 6])\n",
        "y"
      ]
    },
    {
      "cell_type": "markdown",
      "metadata": {
        "id": "tkg7ZP2zRIfa"
      },
      "source": [
        "Pass in a list of lists to create a multidimensional array."
      ]
    },
    {
      "cell_type": "code",
      "execution_count": 51,
      "metadata": {
        "id": "duWu_aSxRIfa",
        "outputId": "a8573cde-c628-4162-ee34-1353a73ca83a",
        "colab": {
          "base_uri": "https://localhost:8080/"
        }
      },
      "outputs": [
        {
          "output_type": "execute_result",
          "data": {
            "text/plain": [
              "array([[ 7,  8,  9],\n",
              "       [10, 11, 12]])"
            ]
          },
          "metadata": {},
          "execution_count": 51
        }
      ],
      "source": [
        "m = np.array([[7, 8, 9], [10, 11, 12]])\n",
        "m"
      ]
    },
    {
      "cell_type": "markdown",
      "metadata": {
        "id": "T6TI9gsQRIfb"
      },
      "source": [
        "Use the shape method to find the dimensions of the array. (rows, columns)"
      ]
    },
    {
      "cell_type": "code",
      "execution_count": 52,
      "metadata": {
        "id": "X9OVGR4FRIfb",
        "outputId": "e38bef2e-cc9e-4b5a-a057-578693876488",
        "colab": {
          "base_uri": "https://localhost:8080/"
        }
      },
      "outputs": [
        {
          "output_type": "execute_result",
          "data": {
            "text/plain": [
              "(2, 3)"
            ]
          },
          "metadata": {},
          "execution_count": 52
        }
      ],
      "source": [
        "m.shape"
      ]
    },
    {
      "cell_type": "markdown",
      "metadata": {
        "id": "5QKoV6smRIfb"
      },
      "source": [
        "`arange` returns evenly spaced values within a given interval."
      ]
    },
    {
      "cell_type": "code",
      "execution_count": 53,
      "metadata": {
        "id": "b3dEwo_4RIfb",
        "outputId": "208d9ec1-3c56-4be9-86fe-773ca20beadf",
        "colab": {
          "base_uri": "https://localhost:8080/"
        }
      },
      "outputs": [
        {
          "output_type": "execute_result",
          "data": {
            "text/plain": [
              "array([ 0,  2,  4,  6,  8, 10, 12, 14, 16, 18, 20, 22, 24, 26, 28])"
            ]
          },
          "metadata": {},
          "execution_count": 53
        }
      ],
      "source": [
        "n = np.arange(0, 30, 2) # start at 0 count up by 2, stop before 30\n",
        "n"
      ]
    },
    {
      "cell_type": "markdown",
      "metadata": {
        "id": "WpeHyyycRIfb"
      },
      "source": [
        "`reshape` returns an array with the same data with a new shape."
      ]
    },
    {
      "cell_type": "code",
      "execution_count": 54,
      "metadata": {
        "id": "afMW0pB_RIfb",
        "outputId": "4d9381f9-36dc-44b5-f70c-b68c245e4a7c",
        "colab": {
          "base_uri": "https://localhost:8080/"
        }
      },
      "outputs": [
        {
          "output_type": "execute_result",
          "data": {
            "text/plain": [
              "array([[ 0,  2,  4,  6,  8],\n",
              "       [10, 12, 14, 16, 18],\n",
              "       [20, 22, 24, 26, 28]])"
            ]
          },
          "metadata": {},
          "execution_count": 54
        }
      ],
      "source": [
        "n = n.reshape(3, 5) # reshape array to be 3x5\n",
        "n"
      ]
    },
    {
      "cell_type": "markdown",
      "metadata": {
        "id": "gUVHG2JPRIfb"
      },
      "source": [
        "`linspace` returns evenly spaced numbers over a specified interval."
      ]
    },
    {
      "cell_type": "code",
      "execution_count": 55,
      "metadata": {
        "id": "-cIuK4LARIfb",
        "outputId": "f990fc9a-a4cb-4a12-bfd0-95fc440337a8",
        "colab": {
          "base_uri": "https://localhost:8080/"
        }
      },
      "outputs": [
        {
          "output_type": "execute_result",
          "data": {
            "text/plain": [
              "array([0. , 0.5, 1. , 1.5, 2. , 2.5, 3. , 3.5, 4. ])"
            ]
          },
          "metadata": {},
          "execution_count": 55
        }
      ],
      "source": [
        "o = np.linspace(0, 4, 9) # return 9 evenly spaced values from 0 to 4\n",
        "o"
      ]
    },
    {
      "cell_type": "markdown",
      "metadata": {
        "id": "xBcQKbuSRIfb"
      },
      "source": [
        "`resize` changes the shape and size of array in-place."
      ]
    },
    {
      "cell_type": "code",
      "execution_count": 56,
      "metadata": {
        "id": "v6YcGoQVRIfc",
        "outputId": "bb755992-7236-47d1-9d44-3129f637055c",
        "colab": {
          "base_uri": "https://localhost:8080/"
        }
      },
      "outputs": [
        {
          "output_type": "execute_result",
          "data": {
            "text/plain": [
              "array([[0. , 0.5, 1. ],\n",
              "       [1.5, 2. , 2.5],\n",
              "       [3. , 3.5, 4. ]])"
            ]
          },
          "metadata": {},
          "execution_count": 56
        }
      ],
      "source": [
        "o.resize(3, 3)\n",
        "o"
      ]
    },
    {
      "cell_type": "markdown",
      "metadata": {
        "id": "pdx_wXMVRIfc"
      },
      "source": [
        "`ones` returns a new array of given shape and type, filled with ones."
      ]
    },
    {
      "cell_type": "code",
      "execution_count": 57,
      "metadata": {
        "id": "TedNAb3ARIfc",
        "outputId": "9a101616-eb89-4d72-94a5-55269674a874",
        "colab": {
          "base_uri": "https://localhost:8080/"
        }
      },
      "outputs": [
        {
          "output_type": "execute_result",
          "data": {
            "text/plain": [
              "array([[1., 1.],\n",
              "       [1., 1.],\n",
              "       [1., 1.]])"
            ]
          },
          "metadata": {},
          "execution_count": 57
        }
      ],
      "source": [
        "np.ones((3, 2))"
      ]
    },
    {
      "cell_type": "markdown",
      "metadata": {
        "id": "7cxJwQ8lRIfc"
      },
      "source": [
        "`zeros` returns a new array of given shape and type, filled with zeros."
      ]
    },
    {
      "cell_type": "code",
      "execution_count": 58,
      "metadata": {
        "id": "7QRU-g-KRIfc",
        "outputId": "30ed78a4-5752-47ea-c982-ef8b59b14e8d",
        "colab": {
          "base_uri": "https://localhost:8080/"
        }
      },
      "outputs": [
        {
          "output_type": "execute_result",
          "data": {
            "text/plain": [
              "array([[0., 0., 0.],\n",
              "       [0., 0., 0.]])"
            ]
          },
          "metadata": {},
          "execution_count": 58
        }
      ],
      "source": [
        "np.zeros((2, 3))"
      ]
    },
    {
      "cell_type": "markdown",
      "metadata": {
        "id": "R7F6_WLuRIfc"
      },
      "source": [
        "`eye` returns a 2-D array with ones on the diagonal and zeros elsewhere."
      ]
    },
    {
      "cell_type": "code",
      "execution_count": 59,
      "metadata": {
        "id": "q_L1go9HRIfc",
        "outputId": "d2d43137-1878-4fc8-a601-5352fb658123",
        "colab": {
          "base_uri": "https://localhost:8080/"
        }
      },
      "outputs": [
        {
          "output_type": "execute_result",
          "data": {
            "text/plain": [
              "array([[1., 0., 0.],\n",
              "       [0., 1., 0.],\n",
              "       [0., 0., 1.]])"
            ]
          },
          "metadata": {},
          "execution_count": 59
        }
      ],
      "source": [
        "np.eye(3)"
      ]
    },
    {
      "cell_type": "markdown",
      "metadata": {
        "id": "cC425cXARIfc"
      },
      "source": [
        "`diag` extracts a diagonal or constructs a diagonal array."
      ]
    },
    {
      "cell_type": "code",
      "execution_count": 60,
      "metadata": {
        "id": "HyBUhh-fRIfd",
        "outputId": "29c4e397-ce69-44be-c003-fdf1af81626c",
        "colab": {
          "base_uri": "https://localhost:8080/"
        }
      },
      "outputs": [
        {
          "output_type": "execute_result",
          "data": {
            "text/plain": [
              "array([[4, 0, 0],\n",
              "       [0, 5, 0],\n",
              "       [0, 0, 6]])"
            ]
          },
          "metadata": {},
          "execution_count": 60
        }
      ],
      "source": [
        "np.diag(y)"
      ]
    },
    {
      "cell_type": "markdown",
      "metadata": {
        "id": "281eKVDRRIfd"
      },
      "source": [
        "Create an array using repeating list (or see `np.tile`)"
      ]
    },
    {
      "cell_type": "code",
      "execution_count": 61,
      "metadata": {
        "id": "FSGmhLlmRIfd",
        "outputId": "0f3f218b-6283-4a03-eec7-94a879509a53",
        "colab": {
          "base_uri": "https://localhost:8080/"
        }
      },
      "outputs": [
        {
          "output_type": "execute_result",
          "data": {
            "text/plain": [
              "array([1, 2, 3, 1, 2, 3, 1, 2, 3])"
            ]
          },
          "metadata": {},
          "execution_count": 61
        }
      ],
      "source": [
        "np.array([1, 2, 3] * 3)"
      ]
    },
    {
      "cell_type": "markdown",
      "metadata": {
        "id": "mpevzf_nRIfd"
      },
      "source": [
        "Repeat elements of an array using `repeat`."
      ]
    },
    {
      "cell_type": "code",
      "execution_count": 62,
      "metadata": {
        "id": "-5rqj4ngRIfd",
        "outputId": "ca9141e2-b2de-4eb8-ada5-634cdb6e94b8",
        "colab": {
          "base_uri": "https://localhost:8080/"
        }
      },
      "outputs": [
        {
          "output_type": "execute_result",
          "data": {
            "text/plain": [
              "array([1, 1, 1, 2, 2, 2, 3, 3, 3])"
            ]
          },
          "metadata": {},
          "execution_count": 62
        }
      ],
      "source": [
        "np.repeat([1, 2, 3], 3)"
      ]
    },
    {
      "cell_type": "markdown",
      "metadata": {
        "id": "_WzjjLpMRIff"
      },
      "source": [
        "### Combining Arrays"
      ]
    },
    {
      "cell_type": "code",
      "execution_count": 66,
      "metadata": {
        "id": "fMhTSL9RRIff",
        "outputId": "4ba00e8d-e49b-410a-bc2d-b7a678bb8f13",
        "colab": {
          "base_uri": "https://localhost:8080/"
        }
      },
      "outputs": [
        {
          "output_type": "execute_result",
          "data": {
            "text/plain": [
              "array([[1, 1, 1],\n",
              "       [1, 1, 1]])"
            ]
          },
          "metadata": {},
          "execution_count": 66
        }
      ],
      "source": [
        "p = np.ones([2, 3], int)\n",
        "p"
      ]
    },
    {
      "cell_type": "markdown",
      "metadata": {
        "id": "x1YbPJ-ZRIff"
      },
      "source": [
        "Use `vstack` to stack arrays in sequence vertically (row wise)."
      ]
    },
    {
      "cell_type": "code",
      "execution_count": 64,
      "metadata": {
        "id": "HEwKw5NkRIff",
        "outputId": "1781a1a9-a54e-47a8-fcba-4df9832499dd",
        "colab": {
          "base_uri": "https://localhost:8080/"
        }
      },
      "outputs": [
        {
          "output_type": "execute_result",
          "data": {
            "text/plain": [
              "array([[1, 1, 1],\n",
              "       [1, 1, 1],\n",
              "       [2, 2, 2],\n",
              "       [2, 2, 2]])"
            ]
          },
          "metadata": {},
          "execution_count": 64
        }
      ],
      "source": [
        "np.vstack([p, 2*p])"
      ]
    },
    {
      "cell_type": "markdown",
      "metadata": {
        "id": "BIebT2z0RIff"
      },
      "source": [
        "Use `hstack` to stack arrays in sequence horizontally (column wise)."
      ]
    },
    {
      "cell_type": "code",
      "execution_count": 65,
      "metadata": {
        "id": "7eUsksF0RIff",
        "outputId": "6bbb8ee5-8677-420f-99b4-ffa1570c0199",
        "colab": {
          "base_uri": "https://localhost:8080/"
        }
      },
      "outputs": [
        {
          "output_type": "execute_result",
          "data": {
            "text/plain": [
              "array([[1, 1, 1, 2, 2, 2],\n",
              "       [1, 1, 1, 2, 2, 2]])"
            ]
          },
          "metadata": {},
          "execution_count": 65
        }
      ],
      "source": [
        "np.hstack([p, 2*p])"
      ]
    },
    {
      "cell_type": "markdown",
      "metadata": {
        "id": "My_t5i2cRIff"
      },
      "source": [
        "## Operations\n",
        "\n",
        "Use `+`, `-`, `*`, `/` and `**` to perform element wise addition, subtraction, multiplication, division and power."
      ]
    },
    {
      "cell_type": "code",
      "execution_count": null,
      "metadata": {
        "id": "5KZCKh9jRIff"
      },
      "outputs": [],
      "source": [
        "print(x + y) # elementwise addition     [1 2 3] + [4 5 6] = [5  7  9]\n",
        "print(x - y) # elementwise subtraction  [1 2 3] - [4 5 6] = [-3 -3 -3]\n",
        "\n",
        "print(x * y) # elementwise multiplication  [1 2 3] * [4 5 6] = [4  10  18]\n",
        "print(x / y) # elementwise divison         [1 2 3] / [4 5 6] = [0.25  0.4  0.5]\n",
        "\n",
        "print(x**2) # elementwise power  [1 2 3] ^2 =  [1 4 9]"
      ]
    },
    {
      "cell_type": "markdown",
      "metadata": {
        "id": "5idMIAgfRIff"
      },
      "source": [
        "**Dot Product:**\n",
        "\n",
        "$ \\begin{bmatrix}x_1 \\ x_2 \\ x_3\\end{bmatrix}\n",
        "\\cdot\n",
        "\\begin{bmatrix}y_1 \\\\ y_2 \\\\ y_3\\end{bmatrix}\n",
        "= x_1 y_1 + x_2 y_2 + x_3 y_3$"
      ]
    },
    {
      "cell_type": "code",
      "execution_count": 72,
      "metadata": {
        "id": "LB_06422RIfg",
        "outputId": "3debd9c0-5825-4680-c5eb-e0f83807428a",
        "colab": {
          "base_uri": "https://localhost:8080/"
        }
      },
      "outputs": [
        {
          "output_type": "stream",
          "name": "stdout",
          "text": [
            "2\n"
          ]
        }
      ],
      "source": [
        "x.dot(y) # dot product  1*4 + 2*5 + 3*6\n",
        "y\n",
        "z = np.array([y, y**2])\n",
        "z\n",
        "print(len(z)) # number of rows of array"
      ]
    },
    {
      "cell_type": "markdown",
      "metadata": {
        "id": "qpo6VbiORIfg"
      },
      "source": [
        "Let's look at transposing arrays. Transposing permutes the dimensions of the array."
      ]
    },
    {
      "cell_type": "code",
      "execution_count": 73,
      "metadata": {
        "id": "8-zSovGwRIfg",
        "outputId": "a8f2e1b5-6139-4221-f133-faacf9ffbab3",
        "colab": {
          "base_uri": "https://localhost:8080/"
        }
      },
      "outputs": [
        {
          "output_type": "execute_result",
          "data": {
            "text/plain": [
              "array([[ 4,  5,  6],\n",
              "       [16, 25, 36]])"
            ]
          },
          "metadata": {},
          "execution_count": 73
        }
      ],
      "source": [
        "z = np.array([y, y**2])\n",
        "z"
      ]
    },
    {
      "cell_type": "markdown",
      "metadata": {
        "id": "Wh2LqSL-RIfg"
      },
      "source": [
        "The shape of array `z` is `(2,3)` before transposing."
      ]
    },
    {
      "cell_type": "code",
      "execution_count": 74,
      "metadata": {
        "id": "rBjnHz3nRIfg",
        "outputId": "00c3c257-bead-4cb5-fd07-193f53ff2e2e",
        "colab": {
          "base_uri": "https://localhost:8080/"
        }
      },
      "outputs": [
        {
          "output_type": "execute_result",
          "data": {
            "text/plain": [
              "(2, 3)"
            ]
          },
          "metadata": {},
          "execution_count": 74
        }
      ],
      "source": [
        "z.shape"
      ]
    },
    {
      "cell_type": "markdown",
      "metadata": {
        "id": "Av-BVT22RIfg"
      },
      "source": [
        "Use `.T` to get the transpose."
      ]
    },
    {
      "cell_type": "code",
      "execution_count": 75,
      "metadata": {
        "id": "vA_PGtLjRIfg",
        "outputId": "4a3c162e-a17f-4168-ba98-91c807ff70da",
        "colab": {
          "base_uri": "https://localhost:8080/"
        }
      },
      "outputs": [
        {
          "output_type": "execute_result",
          "data": {
            "text/plain": [
              "array([[ 4, 16],\n",
              "       [ 5, 25],\n",
              "       [ 6, 36]])"
            ]
          },
          "metadata": {},
          "execution_count": 75
        }
      ],
      "source": [
        "z.T"
      ]
    },
    {
      "cell_type": "markdown",
      "metadata": {
        "id": "lZeFckWDRIfh"
      },
      "source": [
        "The number of rows has swapped with the number of columns."
      ]
    },
    {
      "cell_type": "code",
      "execution_count": 76,
      "metadata": {
        "id": "D-5-4wLcRIfh",
        "outputId": "c3172738-da27-49b5-a34f-aaab9372d313",
        "colab": {
          "base_uri": "https://localhost:8080/"
        }
      },
      "outputs": [
        {
          "output_type": "execute_result",
          "data": {
            "text/plain": [
              "(3, 2)"
            ]
          },
          "metadata": {},
          "execution_count": 76
        }
      ],
      "source": [
        "z.T.shape"
      ]
    },
    {
      "cell_type": "markdown",
      "metadata": {
        "id": "DxV57okWRIfh"
      },
      "source": [
        "Use `.dtype` to see the data type of the elements in the array."
      ]
    },
    {
      "cell_type": "code",
      "execution_count": 77,
      "metadata": {
        "id": "2nRjXAhuRIfh",
        "outputId": "9aec0bbf-319a-4fe8-bdb9-d26fbfe4bd88",
        "colab": {
          "base_uri": "https://localhost:8080/"
        }
      },
      "outputs": [
        {
          "output_type": "execute_result",
          "data": {
            "text/plain": [
              "dtype('int64')"
            ]
          },
          "metadata": {},
          "execution_count": 77
        }
      ],
      "source": [
        "z.dtype"
      ]
    },
    {
      "cell_type": "markdown",
      "metadata": {
        "id": "Ty-oUpYDRIfh"
      },
      "source": [
        "Use `.astype` to cast to a specific type."
      ]
    },
    {
      "cell_type": "code",
      "execution_count": 78,
      "metadata": {
        "id": "69hbjTvvRIfh",
        "outputId": "97838c55-5c87-4a5b-a9a9-2199a93da50e",
        "colab": {
          "base_uri": "https://localhost:8080/"
        }
      },
      "outputs": [
        {
          "output_type": "execute_result",
          "data": {
            "text/plain": [
              "dtype('float32')"
            ]
          },
          "metadata": {},
          "execution_count": 78
        }
      ],
      "source": [
        "z = z.astype('f')\n",
        "z.dtype"
      ]
    },
    {
      "cell_type": "markdown",
      "metadata": {
        "id": "u2Nbp5pcRIfh"
      },
      "source": [
        "## Math Functions\n",
        "\n",
        "Numpy has many built in math functions that can be performed on arrays."
      ]
    },
    {
      "cell_type": "code",
      "execution_count": 79,
      "metadata": {
        "id": "KNs9x1o0RIfh",
        "outputId": "61908649-281b-492d-97ee-cbdb4950627d",
        "colab": {
          "base_uri": "https://localhost:8080/"
        }
      },
      "outputs": [
        {
          "output_type": "execute_result",
          "data": {
            "text/plain": [
              "3.2619012860600183"
            ]
          },
          "metadata": {},
          "execution_count": 79
        }
      ],
      "source": [
        "a = np.array([-4, -2, 1, 3, 5])\n",
        "a.sum()\n",
        "a.max()\n",
        "a.min()\n",
        "a.mean()\n",
        "a.std()"
      ]
    },
    {
      "cell_type": "markdown",
      "metadata": {
        "id": "iJOwBl1HRIfh"
      },
      "source": [
        "`argmax` and `argmin` return the index of the maximum and minimum values in the array."
      ]
    },
    {
      "cell_type": "code",
      "execution_count": 80,
      "metadata": {
        "id": "bDqE3BFARIfh",
        "outputId": "283277ca-1e05-4246-908e-8428d657b5a8",
        "colab": {
          "base_uri": "https://localhost:8080/"
        }
      },
      "outputs": [
        {
          "output_type": "execute_result",
          "data": {
            "text/plain": [
              "0"
            ]
          },
          "metadata": {},
          "execution_count": 80
        }
      ],
      "source": [
        "a.argmax()\n",
        "a.argmin()"
      ]
    },
    {
      "cell_type": "markdown",
      "metadata": {
        "id": "7NaPetEORIfi"
      },
      "source": [
        "## Indexing / Slicing"
      ]
    },
    {
      "cell_type": "code",
      "execution_count": 81,
      "metadata": {
        "id": "ZOYrnkjwRIfi",
        "outputId": "0d36ae10-0824-4c09-9f5b-b300382fd6f6",
        "colab": {
          "base_uri": "https://localhost:8080/"
        }
      },
      "outputs": [
        {
          "output_type": "execute_result",
          "data": {
            "text/plain": [
              "array([  0,   1,   4,   9,  16,  25,  36,  49,  64,  81, 100, 121, 144])"
            ]
          },
          "metadata": {},
          "execution_count": 81
        }
      ],
      "source": [
        "s = np.arange(13)**2\n",
        "s"
      ]
    },
    {
      "cell_type": "markdown",
      "metadata": {
        "id": "cKdwB2l5RIfi"
      },
      "source": [
        "Use bracket notation to get the value at a specific index. Remember that indexing starts at 0."
      ]
    },
    {
      "cell_type": "code",
      "execution_count": 82,
      "metadata": {
        "id": "M_hw7MHcRIfi",
        "outputId": "9679b22b-d736-4619-962f-d87ef01e2bbb",
        "colab": {
          "base_uri": "https://localhost:8080/"
        }
      },
      "outputs": [
        {
          "output_type": "execute_result",
          "data": {
            "text/plain": [
              "(0, 16, 144)"
            ]
          },
          "metadata": {},
          "execution_count": 82
        }
      ],
      "source": [
        "s[0], s[4], s[-1]"
      ]
    },
    {
      "cell_type": "markdown",
      "metadata": {
        "id": "RnplMeHnRIfi"
      },
      "source": [
        "Use `:` to indicate a range. `array[start:stop]`\n",
        "\n",
        "\n",
        "Leaving `start` or `stop` empty will default to the beginning/end of the array."
      ]
    },
    {
      "cell_type": "code",
      "execution_count": 83,
      "metadata": {
        "id": "ui4mWaEvRIfi",
        "outputId": "01f02510-12b9-4c22-d73d-bbc65c3afdab",
        "colab": {
          "base_uri": "https://localhost:8080/"
        }
      },
      "outputs": [
        {
          "output_type": "execute_result",
          "data": {
            "text/plain": [
              "array([ 1,  4,  9, 16])"
            ]
          },
          "metadata": {},
          "execution_count": 83
        }
      ],
      "source": [
        "s[1:5]"
      ]
    },
    {
      "cell_type": "markdown",
      "metadata": {
        "id": "iOL_sXwCRIfi"
      },
      "source": [
        "Use negatives to count from the back."
      ]
    },
    {
      "cell_type": "code",
      "execution_count": 84,
      "metadata": {
        "id": "kc4OgiroRIfi",
        "outputId": "7660ee43-44cb-456f-ef51-17fd392f4795",
        "colab": {
          "base_uri": "https://localhost:8080/"
        }
      },
      "outputs": [
        {
          "output_type": "execute_result",
          "data": {
            "text/plain": [
              "array([ 81, 100, 121, 144])"
            ]
          },
          "metadata": {},
          "execution_count": 84
        }
      ],
      "source": [
        "s[-4:]"
      ]
    },
    {
      "cell_type": "markdown",
      "metadata": {
        "id": "EgB9ZjBtRIfi"
      },
      "source": [
        "A second `:` can be used to indicate step-size. `array[start:stop:stepsize]`\n",
        "\n",
        "Here we are starting 5th element from the end, and counting backwards by 2 until the beginning of the array is reached."
      ]
    },
    {
      "cell_type": "code",
      "execution_count": 85,
      "metadata": {
        "id": "mzB1QyuSRIfi",
        "outputId": "e3054d0a-44c6-4b18-b9a0-b77bce8dc3a2",
        "colab": {
          "base_uri": "https://localhost:8080/"
        }
      },
      "outputs": [
        {
          "output_type": "execute_result",
          "data": {
            "text/plain": [
              "array([64, 36, 16,  4,  0])"
            ]
          },
          "metadata": {},
          "execution_count": 85
        }
      ],
      "source": [
        "s[-5::-2]"
      ]
    },
    {
      "cell_type": "markdown",
      "metadata": {
        "id": "adeqrA-dRIfj"
      },
      "source": [
        "Let's look at a multidimensional array."
      ]
    },
    {
      "cell_type": "code",
      "execution_count": 86,
      "metadata": {
        "id": "xPpLQKrNRIfj",
        "outputId": "5bd58267-5a15-4540-9a04-86b95ed18ee0",
        "colab": {
          "base_uri": "https://localhost:8080/"
        }
      },
      "outputs": [
        {
          "output_type": "execute_result",
          "data": {
            "text/plain": [
              "array([[ 0,  1,  2,  3,  4,  5],\n",
              "       [ 6,  7,  8,  9, 10, 11],\n",
              "       [12, 13, 14, 15, 16, 17],\n",
              "       [18, 19, 20, 21, 22, 23],\n",
              "       [24, 25, 26, 27, 28, 29],\n",
              "       [30, 31, 32, 33, 34, 35]])"
            ]
          },
          "metadata": {},
          "execution_count": 86
        }
      ],
      "source": [
        "r = np.arange(36)\n",
        "r.resize((6, 6))\n",
        "r"
      ]
    },
    {
      "cell_type": "markdown",
      "metadata": {
        "id": "iBKdHCZKRIfj"
      },
      "source": [
        "Use bracket notation to slice: `array[row, column]`"
      ]
    },
    {
      "cell_type": "code",
      "execution_count": 87,
      "metadata": {
        "id": "qC_l1dV_RIfj",
        "outputId": "a1089b5e-f2f5-4a0a-d574-32c1e0feeb0a",
        "colab": {
          "base_uri": "https://localhost:8080/"
        }
      },
      "outputs": [
        {
          "output_type": "execute_result",
          "data": {
            "text/plain": [
              "14"
            ]
          },
          "metadata": {},
          "execution_count": 87
        }
      ],
      "source": [
        "r[2, 2]"
      ]
    },
    {
      "cell_type": "markdown",
      "metadata": {
        "id": "wlgTy5uVRIfj"
      },
      "source": [
        "And use : to select a range of rows or columns"
      ]
    },
    {
      "cell_type": "code",
      "execution_count": 88,
      "metadata": {
        "id": "sYzWhcx8RIfj",
        "outputId": "b83ced79-e77e-4355-82b0-bf55647648c0",
        "colab": {
          "base_uri": "https://localhost:8080/"
        }
      },
      "outputs": [
        {
          "output_type": "execute_result",
          "data": {
            "text/plain": [
              "array([21, 22, 23])"
            ]
          },
          "metadata": {},
          "execution_count": 88
        }
      ],
      "source": [
        "r[3, 3:6]"
      ]
    },
    {
      "cell_type": "markdown",
      "metadata": {
        "id": "x2t9tm-NRIfj"
      },
      "source": [
        "Here we are selecting all the rows up to (and not including) row 2, and all the columns up to (and not including) the last column."
      ]
    },
    {
      "cell_type": "code",
      "execution_count": null,
      "metadata": {
        "id": "0n-t9rGlRIfj"
      },
      "outputs": [],
      "source": [
        "r[:2, :-1]"
      ]
    },
    {
      "cell_type": "markdown",
      "metadata": {
        "id": "_rkXbj1zRIfj"
      },
      "source": [
        "This is a slice of the last row, and only every other element."
      ]
    },
    {
      "cell_type": "code",
      "execution_count": null,
      "metadata": {
        "id": "BZPKvCCKRIfj"
      },
      "outputs": [],
      "source": [
        "r[-1, ::2]"
      ]
    },
    {
      "cell_type": "markdown",
      "metadata": {
        "id": "Xc42iVg_RIfj"
      },
      "source": [
        "We can also perform conditional indexing. Here we are selecting values from the array that are greater than 30. (Also see `np.where`)"
      ]
    },
    {
      "cell_type": "code",
      "execution_count": 89,
      "metadata": {
        "id": "4VKiVoVGRIfk",
        "outputId": "54b8386a-4b98-4e82-854b-c11da0675dda",
        "colab": {
          "base_uri": "https://localhost:8080/"
        }
      },
      "outputs": [
        {
          "output_type": "execute_result",
          "data": {
            "text/plain": [
              "array([31, 32, 33, 34, 35])"
            ]
          },
          "metadata": {},
          "execution_count": 89
        }
      ],
      "source": [
        "r[r > 30]"
      ]
    },
    {
      "cell_type": "markdown",
      "metadata": {
        "id": "2pQrIBtIRIfk"
      },
      "source": [
        "Here we are assigning all values in the array that are greater than 30 to the value of 30."
      ]
    },
    {
      "cell_type": "code",
      "execution_count": 90,
      "metadata": {
        "id": "s2wp-Q-MRIfk",
        "outputId": "5a2aac14-4c3f-4c20-a054-475007fa8476",
        "colab": {
          "base_uri": "https://localhost:8080/"
        }
      },
      "outputs": [
        {
          "output_type": "execute_result",
          "data": {
            "text/plain": [
              "array([[ 0,  1,  2,  3,  4,  5],\n",
              "       [ 6,  7,  8,  9, 10, 11],\n",
              "       [12, 13, 14, 15, 16, 17],\n",
              "       [18, 19, 20, 21, 22, 23],\n",
              "       [24, 25, 26, 27, 28, 29],\n",
              "       [30, 30, 30, 30, 30, 30]])"
            ]
          },
          "metadata": {},
          "execution_count": 90
        }
      ],
      "source": [
        "r[r > 30] = 30\n",
        "r"
      ]
    },
    {
      "cell_type": "markdown",
      "metadata": {
        "id": "u24TyrKvRIfk"
      },
      "source": [
        "## Copying Data\n",
        "\n",
        "Be careful with copying and modifying arrays in NumPy!\n",
        "\n",
        "\n",
        "`r2` is a slice of `r`"
      ]
    },
    {
      "cell_type": "code",
      "execution_count": 91,
      "metadata": {
        "id": "2LTINyowRIfk",
        "outputId": "70f88f9f-e7ca-46ae-d67d-b7a24deb1e59",
        "colab": {
          "base_uri": "https://localhost:8080/"
        }
      },
      "outputs": [
        {
          "output_type": "execute_result",
          "data": {
            "text/plain": [
              "array([[ 0,  1,  2],\n",
              "       [ 6,  7,  8],\n",
              "       [12, 13, 14]])"
            ]
          },
          "metadata": {},
          "execution_count": 91
        }
      ],
      "source": [
        "r2 = r[:3,:3]\n",
        "r2"
      ]
    },
    {
      "cell_type": "markdown",
      "metadata": {
        "id": "5DXomon2RIfk"
      },
      "source": [
        "Set this slice's values to zero ([:] selects the entire array)"
      ]
    },
    {
      "cell_type": "code",
      "execution_count": 92,
      "metadata": {
        "id": "0JDy0FrmRIfk",
        "outputId": "97bea78f-f33e-4943-b62a-9ddbd24ae3a4",
        "colab": {
          "base_uri": "https://localhost:8080/"
        }
      },
      "outputs": [
        {
          "output_type": "execute_result",
          "data": {
            "text/plain": [
              "array([[0, 0, 0],\n",
              "       [0, 0, 0],\n",
              "       [0, 0, 0]])"
            ]
          },
          "metadata": {},
          "execution_count": 92
        }
      ],
      "source": [
        "r2[:] = 0\n",
        "r2"
      ]
    },
    {
      "cell_type": "markdown",
      "metadata": {
        "id": "RJktu9YQRIfk"
      },
      "source": [
        "`r` has also been changed!"
      ]
    },
    {
      "cell_type": "code",
      "execution_count": 93,
      "metadata": {
        "id": "JGrag7tGRIfk",
        "outputId": "da4c8766-625e-4e96-f65d-c61d1ad7686f",
        "colab": {
          "base_uri": "https://localhost:8080/"
        }
      },
      "outputs": [
        {
          "output_type": "execute_result",
          "data": {
            "text/plain": [
              "array([[ 0,  0,  0,  3,  4,  5],\n",
              "       [ 0,  0,  0,  9, 10, 11],\n",
              "       [ 0,  0,  0, 15, 16, 17],\n",
              "       [18, 19, 20, 21, 22, 23],\n",
              "       [24, 25, 26, 27, 28, 29],\n",
              "       [30, 30, 30, 30, 30, 30]])"
            ]
          },
          "metadata": {},
          "execution_count": 93
        }
      ],
      "source": [
        "r"
      ]
    },
    {
      "cell_type": "markdown",
      "metadata": {
        "id": "R3cuw8Q5RIfk"
      },
      "source": [
        "To avoid this, use `r.copy` to create a copy that will not affect the original array"
      ]
    },
    {
      "cell_type": "code",
      "execution_count": 94,
      "metadata": {
        "id": "ijCqoHPsRIfl",
        "outputId": "7d2f8e30-5794-4222-8253-c168d42922a0",
        "colab": {
          "base_uri": "https://localhost:8080/"
        }
      },
      "outputs": [
        {
          "output_type": "execute_result",
          "data": {
            "text/plain": [
              "array([[ 0,  0,  0,  3,  4,  5],\n",
              "       [ 0,  0,  0,  9, 10, 11],\n",
              "       [ 0,  0,  0, 15, 16, 17],\n",
              "       [18, 19, 20, 21, 22, 23],\n",
              "       [24, 25, 26, 27, 28, 29],\n",
              "       [30, 30, 30, 30, 30, 30]])"
            ]
          },
          "metadata": {},
          "execution_count": 94
        }
      ],
      "source": [
        "r_copy = r.copy()\n",
        "r_copy"
      ]
    },
    {
      "cell_type": "markdown",
      "metadata": {
        "id": "G3UgKXBeRIfl"
      },
      "source": [
        "Now when r_copy is modified, r will not be changed."
      ]
    },
    {
      "cell_type": "code",
      "execution_count": 95,
      "metadata": {
        "id": "8S_qrQRsRIfl",
        "outputId": "3bfb7376-1fa3-4abc-918c-8b00ba04855c",
        "colab": {
          "base_uri": "https://localhost:8080/"
        }
      },
      "outputs": [
        {
          "output_type": "stream",
          "name": "stdout",
          "text": [
            "[[10 10 10 10 10 10]\n",
            " [10 10 10 10 10 10]\n",
            " [10 10 10 10 10 10]\n",
            " [10 10 10 10 10 10]\n",
            " [10 10 10 10 10 10]\n",
            " [10 10 10 10 10 10]] \n",
            "\n",
            "[[ 0  0  0  3  4  5]\n",
            " [ 0  0  0  9 10 11]\n",
            " [ 0  0  0 15 16 17]\n",
            " [18 19 20 21 22 23]\n",
            " [24 25 26 27 28 29]\n",
            " [30 30 30 30 30 30]]\n"
          ]
        }
      ],
      "source": [
        "r_copy[:] = 10\n",
        "print(r_copy, '\\n')\n",
        "print(r)"
      ]
    },
    {
      "cell_type": "markdown",
      "metadata": {
        "id": "18ngoZTfRIfl"
      },
      "source": [
        "### Iterating Over Arrays\n",
        "\n",
        "Let's create a new 4 by 3 array of random numbers 0-9."
      ]
    },
    {
      "cell_type": "code",
      "execution_count": 96,
      "metadata": {
        "id": "ZDDR9DfQRIfl",
        "outputId": "4a4e9d12-e6a3-45a9-e364-1b71ee814be0",
        "colab": {
          "base_uri": "https://localhost:8080/"
        }
      },
      "outputs": [
        {
          "output_type": "execute_result",
          "data": {
            "text/plain": [
              "array([[5, 6, 1],\n",
              "       [7, 7, 8],\n",
              "       [1, 5, 3],\n",
              "       [0, 6, 8]])"
            ]
          },
          "metadata": {},
          "execution_count": 96
        }
      ],
      "source": [
        "test = np.random.randint(0, 10, (4,3))\n",
        "test"
      ]
    },
    {
      "cell_type": "markdown",
      "metadata": {
        "id": "smllODA-RIfl"
      },
      "source": [
        "Iterate by row:"
      ]
    },
    {
      "cell_type": "code",
      "execution_count": 97,
      "metadata": {
        "id": "HhciLJcyRIfl",
        "outputId": "fdff05a6-9f8e-4f94-aee8-51607e109253",
        "colab": {
          "base_uri": "https://localhost:8080/"
        }
      },
      "outputs": [
        {
          "output_type": "stream",
          "name": "stdout",
          "text": [
            "[5 6 1]\n",
            "[7 7 8]\n",
            "[1 5 3]\n",
            "[0 6 8]\n"
          ]
        }
      ],
      "source": [
        "for row in test:\n",
        "    print(row)"
      ]
    },
    {
      "cell_type": "markdown",
      "metadata": {
        "id": "2M8sif62RIfl"
      },
      "source": [
        "Iterate by index:"
      ]
    },
    {
      "cell_type": "code",
      "execution_count": 100,
      "metadata": {
        "id": "Rnw-twVRRIfl",
        "outputId": "bd4a6d74-49be-461e-91fc-d30563e58f23",
        "colab": {
          "base_uri": "https://localhost:8080/"
        }
      },
      "outputs": [
        {
          "output_type": "stream",
          "name": "stdout",
          "text": [
            "[5 6 1]\n",
            "[7 7 8]\n",
            "[1 5 3]\n",
            "[0 6 8]\n"
          ]
        }
      ],
      "source": [
        "for i in range(len(test)):\n",
        "    print(test[i])"
      ]
    },
    {
      "cell_type": "markdown",
      "metadata": {
        "id": "uW9WxemFRIfl"
      },
      "source": [
        "Iterate by row and index:"
      ]
    },
    {
      "cell_type": "code",
      "execution_count": 101,
      "metadata": {
        "id": "OKIKhXZ1RIfm",
        "outputId": "7ee73cc8-66b0-4888-f985-8b88d11f4f01",
        "colab": {
          "base_uri": "https://localhost:8080/"
        }
      },
      "outputs": [
        {
          "output_type": "stream",
          "name": "stdout",
          "text": [
            "row 0 is [5 6 1]\n",
            "row 1 is [7 7 8]\n",
            "row 2 is [1 5 3]\n",
            "row 3 is [0 6 8]\n"
          ]
        }
      ],
      "source": [
        "for i, row in enumerate(test):\n",
        "    print('row', i, 'is', row)"
      ]
    },
    {
      "cell_type": "markdown",
      "metadata": {
        "id": "gF_3XElPRIfm"
      },
      "source": [
        "Use `zip` to iterate over multiple iterables."
      ]
    },
    {
      "cell_type": "code",
      "execution_count": 102,
      "metadata": {
        "id": "2yUayedhRIfm",
        "outputId": "280dea29-8d93-4712-b050-615a6f7459b4",
        "colab": {
          "base_uri": "https://localhost:8080/"
        }
      },
      "outputs": [
        {
          "output_type": "execute_result",
          "data": {
            "text/plain": [
              "array([[25, 36,  1],\n",
              "       [49, 49, 64],\n",
              "       [ 1, 25,  9],\n",
              "       [ 0, 36, 64]])"
            ]
          },
          "metadata": {},
          "execution_count": 102
        }
      ],
      "source": [
        "test2 = test**2\n",
        "test2"
      ]
    },
    {
      "cell_type": "code",
      "execution_count": 103,
      "metadata": {
        "id": "CwwlpbtoRIfm",
        "outputId": "5d4135d7-4491-405c-883e-4f7a83e1e04f",
        "colab": {
          "base_uri": "https://localhost:8080/"
        }
      },
      "outputs": [
        {
          "output_type": "stream",
          "name": "stdout",
          "text": [
            "[5 6 1] + [25 36  1] = [30 42  2]\n",
            "[7 7 8] + [49 49 64] = [56 56 72]\n",
            "[1 5 3] + [ 1 25  9] = [ 2 30 12]\n",
            "[0 6 8] + [ 0 36 64] = [ 0 42 72]\n"
          ]
        }
      ],
      "source": [
        "for i, j in zip(test, test2):\n",
        "    print(i,'+',j,'=',i+j)"
      ]
    },
    {
      "cell_type": "markdown",
      "metadata": {
        "id": "pH95Sc4LRIfm"
      },
      "source": [
        "# TODO: PRACTICE EXERCISES\n",
        "\n",
        "\n",
        "Please fill in your answers in the following code and text cells, <u>including comments</u> as needed. The area to enter your answers is indicated by ellipses (`...`) below. For all code developed, please be sure to add <u>explanatory comments</u> to encapsulate your understanding.\n",
        "\n",
        "Then, please submit both the `.ipynb` file and the `.pdf` file, as per the Submission Instructions below."
      ]
    },
    {
      "cell_type": "code",
      "execution_count": null,
      "metadata": {
        "id": "MEsnv4_JRIfm"
      },
      "outputs": [],
      "source": [
        "..."
      ]
    },
    {
      "cell_type": "markdown",
      "metadata": {
        "id": "owcXxDTIRIfm"
      },
      "source": [
        "## Exercise 1\n",
        "\n",
        "Write and run a Python program that asks the user for a temperature in Celsius and converts and outputs the temperature in Fahrenheit.  (Use the formula given in the example above and solve for `tempF` in terms of `tempC`.)"
      ]
    },
    {
      "cell_type": "code",
      "execution_count": 150,
      "metadata": {
        "id": "qODdKOBTRIfn",
        "outputId": "d4dd3d03-9aa2-411e-d373-add8fa1dd511",
        "colab": {
          "base_uri": "https://localhost:8080/"
        }
      },
      "outputs": [
        {
          "output_type": "stream",
          "name": "stdout",
          "text": [
            "Input the temperature in Celsius: 25\n",
            "25  C =  77.0  F\n"
          ]
        }
      ],
      "source": [
        "# Main function\n",
        "def main():\n",
        "    # Get temp c as input from user\n",
        "    tempC = int(input(\"Input the temperature in Celsius: \"))\n",
        "\n",
        "    # Convert to F\n",
        "    tempF = (tempC * 9.0/5.0) + 32.0\n",
        "\n",
        "    # Print result\n",
        "    print(tempC, \" C = \", tempF, \" F\")\n",
        "\n",
        "# Execute\n",
        "main()"
      ]
    },
    {
      "cell_type": "markdown",
      "metadata": {
        "id": "LcklkkQTRIfn"
      },
      "source": [
        "## Exercise 2\n",
        "\n",
        "Here is an algorithm to print out n! (n factorial) from 0! to 19!:"
      ]
    },
    {
      "cell_type": "code",
      "execution_count": null,
      "metadata": {
        "id": "XU23OGjlRIfn"
      },
      "outputs": [],
      "source": [
        "1. Set f = 1\n",
        "2. Set n = 0\n",
        "3. Repeat the following 20 times: # range(20) will repeate 20 times although range(1,20) will also work with 1 fewer runs due to the base case\n",
        "   a. Output n, \"! = \", f\n",
        "   b. Add 1 to n\n",
        "   c. Multiply f by n"
      ]
    },
    {
      "cell_type": "markdown",
      "metadata": {
        "id": "m9lxksQgRIfn"
      },
      "source": [
        "Using a `for` loop, write and run a Python program for this algorithm."
      ]
    },
    {
      "cell_type": "code",
      "execution_count": 151,
      "metadata": {
        "id": "7P_yTK_zRIfn",
        "outputId": "0ad18bb1-dc81-4589-b7b7-e06bef88ed04",
        "colab": {
          "base_uri": "https://localhost:8080/"
        }
      },
      "outputs": [
        {
          "output_type": "stream",
          "name": "stdout",
          "text": [
            "0! =  1\n",
            "1 ! =  1\n",
            "2 ! =  2\n",
            "3 ! =  6\n",
            "4 ! =  24\n",
            "5 ! =  120\n",
            "6 ! =  720\n",
            "7 ! =  5040\n",
            "8 ! =  40320\n",
            "9 ! =  362880\n",
            "10 ! =  3628800\n",
            "11 ! =  39916800\n",
            "12 ! =  479001600\n",
            "13 ! =  6227020800\n",
            "14 ! =  87178291200\n",
            "15 ! =  1307674368000\n",
            "16 ! =  20922789888000\n",
            "17 ! =  355687428096000\n",
            "18 ! =  6402373705728000\n",
            "19 ! =  121645100408832000\n"
          ]
        }
      ],
      "source": [
        "# Factorial of 0\n",
        "f = 1\n",
        "\n",
        "# Print 0! since it is out of the loop\n",
        "print(\"0! = \", f)\n",
        "\n",
        "# Iterate 1...19\n",
        "for n in range(1,20):\n",
        "\n",
        "  # f = n! = n*(n-1)!\n",
        "  f = f*n\n",
        "\n",
        "  # print result of n!\n",
        "  print(n, \"! = \", f)"
      ]
    },
    {
      "cell_type": "markdown",
      "metadata": {
        "id": "cBSKliyGRIfn"
      },
      "source": [
        "## Exercise 3\n",
        "\n",
        "Modify the program above using a `while` loop so it prints out all of the factorial values that are _less than 1 billion_. (You should be able to do this without looking at the output of the previous exercise.)"
      ]
    },
    {
      "cell_type": "code",
      "execution_count": 152,
      "metadata": {
        "id": "F28pQeg7RIfn",
        "outputId": "671ad5b9-33e5-4451-f615-b9d69e4f38aa",
        "colab": {
          "base_uri": "https://localhost:8080/"
        }
      },
      "outputs": [
        {
          "output_type": "stream",
          "name": "stdout",
          "text": [
            "0 ! =  1\n",
            "1 ! =  1\n",
            "2 ! =  2\n",
            "3 ! =  6\n",
            "4 ! =  24\n",
            "5 ! =  120\n",
            "6 ! =  720\n",
            "7 ! =  5040\n",
            "8 ! =  40320\n",
            "9 ! =  362880\n",
            "10 ! =  3628800\n",
            "11 ! =  39916800\n",
            "12 ! =  479001600\n"
          ]
        }
      ],
      "source": [
        "# Initialize n to 0 and f to n!\n",
        "f = 1\n",
        "n = 0\n",
        "\n",
        "# Infinite loop\n",
        "while True:\n",
        "\n",
        "  # Display factorial\n",
        "  print(n, \"! = \", f)\n",
        "\n",
        "  # Increment n and calctulate n! = n*(n-1)!\n",
        "  n = n +1\n",
        "  f = f*n\n",
        "\n",
        "  # Stop the infinite loop if factorial is > 1 billion\n",
        "  if f >= 1.0e9:\n",
        "    break"
      ]
    },
    {
      "cell_type": "markdown",
      "metadata": {
        "id": "O7I-EOBmRIfn"
      },
      "source": [
        "## Exercise 4\n",
        "\n",
        "Repeat #3 above using list comprehensions. Please see these increasingly more sophisticated references for list comprehensions:\n",
        "\n",
        "* [Simple](http://www.pythonforbeginners.com/basics/list-comprehensions-in-python)\n",
        "* [Advanced](https://web.archive.org/web/20171126231647/http://www.secnetix.de/olli/Python/list_comprehensions.hawk)\n",
        "* [Complex](http://www.python-course.eu/list_comprehension.php) (has a hint for this problem).\n",
        "\n"
      ]
    },
    {
      "cell_type": "code",
      "execution_count": 153,
      "metadata": {
        "id": "V1dCqbptRIfn",
        "outputId": "199bb776-59f6-4780-c51c-cf25f1f72378",
        "colab": {
          "base_uri": "https://localhost:8080/"
        }
      },
      "outputs": [
        {
          "output_type": "stream",
          "name": "stdout",
          "text": [
            "0 ! =  1\n",
            "1 ! =  1\n",
            "2 ! =  2\n",
            "3 ! =  6\n",
            "4 ! =  24\n",
            "5 ! =  120\n",
            "6 ! =  720\n",
            "7 ! =  5040\n",
            "8 ! =  40320\n",
            "9 ! =  362880\n",
            "10 ! =  3628800\n",
            "11 ! =  39916800\n",
            "12 ! =  479001600\n"
          ]
        }
      ],
      "source": [
        "# Empty list\n",
        "s = []\n",
        "\n",
        "# 1. Iterates through 1...19\n",
        "# 2. Factorial is calculated as f = x*s[-1], if s doesnt exist then it is f = x*1\n",
        "# 3. If f is less than 1 billion then append f to s. Trick: putting \"not s.append()\" as a condition allows the comprehension to execute the append\n",
        "# 4. The current iteration appended f to the end of the list and returns s[-1] which is the factorial\n",
        "s = [s[-1] for x in range(1,20) if x*(s[-1] if s else 1) < 1.0e9 and not s.append(x*(s[-1] if s else 1))]\n",
        "\n",
        "# Add the factorial of 0 to the beginning of the list\n",
        "s = [1] + s\n",
        "\n",
        "# Iterate through factorial list and print results\n",
        "_ = [print(i, \"! = \",x) for i,x in enumerate(s)]\n"
      ]
    },
    {
      "cell_type": "markdown",
      "metadata": {
        "id": "97mQCxbvRIfn"
      },
      "source": [
        "## Exercise 5\n",
        "\n",
        "Suppose you have a dictionary of dictionaries, or a 2D dictionary, called `banditos` as follows:"
      ]
    },
    {
      "cell_type": "code",
      "execution_count": 154,
      "metadata": {
        "id": "AmiUI3h6RIfo"
      },
      "outputs": [],
      "source": [
        "alonzo = {\"age\": 10, \"height\": 42, \"weight\": 175, \"instrument\":\"fiddle\" }\n",
        "turing = {\"age\": 41, \"height\": 70, \"weight\": 160, \"instrument\":\"theremin\"}\n",
        "bertha = {\"age\": 32, \"height\": 97, \"weight\": 587, \"instrument\":\"cello\"}\n",
        "tinkerB = {\"age\":100, \"height\": 4, \"weight\": 0.5, \"instrument\":\"cello\"}\n",
        "banditos = {\"Alonzo\": alonzo, \"Turing\": turing, \"Bertha\": bertha, \"TinkerB\": tinkerB}\n"
      ]
    },
    {
      "cell_type": "markdown",
      "metadata": {
        "id": "AOcFFz9_RIfo"
      },
      "source": [
        "We can access the sub-dictionary, or vector, of Alonzo's attributes as follows:"
      ]
    },
    {
      "cell_type": "code",
      "execution_count": 155,
      "metadata": {
        "id": "ycRIwLH6RIfo",
        "outputId": "21017ce2-d18e-4c7b-da45-73c3bd2b2d6b",
        "colab": {
          "base_uri": "https://localhost:8080/"
        }
      },
      "outputs": [
        {
          "output_type": "execute_result",
          "data": {
            "text/plain": [
              "{'age': 10, 'height': 42, 'weight': 175, 'instrument': 'fiddle'}"
            ]
          },
          "metadata": {},
          "execution_count": 155
        }
      ],
      "source": [
        "banditos[\"Alonzo\"]\n"
      ]
    },
    {
      "cell_type": "markdown",
      "metadata": {
        "id": "mnjeu4UwRIfo"
      },
      "source": [
        "We can also return a specific feature of Alonzo's as:"
      ]
    },
    {
      "cell_type": "code",
      "execution_count": 156,
      "metadata": {
        "id": "DRKVCLkuRIfo",
        "outputId": "a2c4841f-92b7-4be9-8d64-8dcffdd87bcd",
        "colab": {
          "base_uri": "https://localhost:8080/"
        }
      },
      "outputs": [
        {
          "output_type": "execute_result",
          "data": {
            "text/plain": [
              "10"
            ]
          },
          "metadata": {},
          "execution_count": 156
        }
      ],
      "source": [
        "banditos[\"Alonzo\"][\"age\"]\n"
      ]
    },
    {
      "cell_type": "markdown",
      "metadata": {
        "id": "F_OZAvnKRIfo"
      },
      "source": [
        "For the above dictionary, `banditos`, write a function that, when given the dictionary, returns a list of users who play a certain instrument. E.g., here's a sample run and its result:"
      ]
    },
    {
      "cell_type": "code",
      "execution_count": null,
      "metadata": {
        "id": "PTsMILUIRIfo"
      },
      "outputs": [],
      "source": [
        "find_players(banditos, \"cello\")\n",
        "\n",
        "  ['Bertha', 'TinkerB']"
      ]
    },
    {
      "cell_type": "code",
      "execution_count": 160,
      "metadata": {
        "id": "gf1XZqsVRIfo",
        "outputId": "0946c6a5-f026-4091-bb8c-381066586f87",
        "colab": {
          "base_uri": "https://localhost:8080/"
        }
      },
      "outputs": [
        {
          "output_type": "execute_result",
          "data": {
            "text/plain": [
              "['Bertha', 'TinkerB']"
            ]
          },
          "metadata": {},
          "execution_count": 160
        }
      ],
      "source": [
        "def find_players(players_data, instrument):\n",
        "  # Iterate through the keys and values (players and features)\n",
        "  # If the current player's instrument matches then add player to the list\n",
        "  return [player for player,features in players_data.items() if features[\"instrument\"] == instrument]\n",
        "\n",
        "find_players(banditos, \"cello\")\n"
      ]
    },
    {
      "cell_type": "markdown",
      "metadata": {
        "id": "Sits4YNcRIfo"
      },
      "source": [
        "# Submission Instructions\n",
        "\n",
        "Once you have filled out the Colab notebook completely, you are ready to submit. Your final submission will consist of the `.ipynb` and the `.pdf` files, as described below:\n",
        "\n",
        "1. Download the Google Colab notebook as an iPython notebook\n",
        "   * You can do this by going to *File \\> Download .ipynb*\n",
        "2. Print out a PDF of your Colab notebook.\n",
        "   * In Google Chrome, you can do this by going to *File \\> Print* and then\n",
        "choosing *Save to PDF*.\n",
        "   * **Make sure you have run all cells first.**\n",
        "   * Ensure you've closed the table of contents sidebar before you print so we can easily see your work and output.\n",
        "3. Submit **both** the `.ipynb` notebook and the `.pdf` files via Blackboard or directly via the cloud using the Google Integration with Blackboard (if applicable).\n",
        "\n",
        "---"
      ]
    }
  ],
  "metadata": {
    "language_info": {
      "name": "python"
    },
    "colab": {
      "provenance": [],
      "include_colab_link": true
    },
    "kernelspec": {
      "name": "python3",
      "display_name": "Python 3"
    }
  },
  "nbformat": 4,
  "nbformat_minor": 0
}